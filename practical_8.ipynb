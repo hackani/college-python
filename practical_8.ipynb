{
 "cells": [
  {
   "cell_type": "markdown",
   "metadata": {},
   "source": [
    "# <center>Practical 8</center>"
   ]
  },
  {
   "cell_type": "markdown",
   "metadata": {},
   "source": [
    "### WAP to read the nos until -1 is encpuntered Also count the -ve, +ve and 0 entered by the user "
   ]
  },
  {
   "cell_type": "code",
   "execution_count": 1,
   "metadata": {},
   "outputs": [
    {
     "name": "stdout",
     "output_type": "stream",
     "text": [
      "Chaudhary kanishk\n",
      "Enter -1 to stop entering number\n",
      "Enter a number = 1\n",
      "Enter a number = -1\n",
      "Entered -1\n",
      "Number of positive nos = 1\n",
      "Number of negetive nos = 0\n",
      "Number of zeros nos = 0\n"
     ]
    }
   ],
   "source": [
    "print(\"Chaudhary kanishk\")\n",
    "\n",
    "nos = []\n",
    "count_p = 0\n",
    "count_n = 0\n",
    "count_z = 0\n",
    "\n",
    "print(\"Enter -1 to stop entering number\")\n",
    "i = 0\n",
    "while True:\n",
    "    i = int(input(\"Enter a number = \"))\n",
    "    print(\"Enter a number =\", i)\n",
    "    if i == -1:\n",
    "        print(\"Entered -1\")\n",
    "        break\n",
    "    elif i < 0:\n",
    "        count_n += 1\n",
    "    elif i > 0:\n",
    "        count_p += 1\n",
    "    else:\n",
    "        count_z += 1\n",
    "    nos.append(i)\n",
    "\n",
    "print(\"Number of positive nos =\", count_p)        \n",
    "print(\"Number of negetive nos =\", count_n)        \n",
    "print(\"Number of zeros nos =\", count_z)        "
   ]
  },
  {
   "cell_type": "markdown",
   "metadata": {},
   "source": [
    "### WAP to enter a decimal no calculate and display the binary equivalent of the number"
   ]
  },
  {
   "cell_type": "code",
   "execution_count": 2,
   "metadata": {},
   "outputs": [
    {
     "name": "stdout",
     "output_type": "stream",
     "text": [
      "Chaudhary kanishk\n",
      "Enter a number = 25\n",
      "number 25 in binary is 11001.\n"
     ]
    }
   ],
   "source": [
    "print(\"Chaudhary kanishk\")\n",
    "\n",
    "num = int(input(\"Enter a number = \"))\n",
    "print(\"Enter a number =\", num)\n",
    "bnum = bin(num)[2:]\n",
    "print(f\"number {num} in binary is {bnum}.\")"
   ]
  },
  {
   "cell_type": "markdown",
   "metadata": {},
   "source": [
    "### WAP to enter a binary no and convert it into a decimal no"
   ]
  },
  {
   "cell_type": "code",
   "execution_count": 3,
   "metadata": {},
   "outputs": [
    {
     "name": "stdout",
     "output_type": "stream",
     "text": [
      "Chaudhary kanishk\n",
      "Enter a number = 101\n",
      "binary number 101 in decimal is 5.\n"
     ]
    }
   ],
   "source": [
    "print(\"Chaudhary kanishk\")\n",
    "\n",
    "bnum = input(\"Enter a number = \")\n",
    "print(\"Enter a number =\", bnum)\n",
    "num = int(bnum, base=2)\n",
    "print(f\"binary number {bnum} in decimal is {num}.\")"
   ]
  },
  {
   "cell_type": "markdown",
   "metadata": {},
   "source": [
    "### WAP to print the reverse of a no (using while loop)"
   ]
  },
  {
   "cell_type": "code",
   "execution_count": 4,
   "metadata": {},
   "outputs": [
    {
     "name": "stdout",
     "output_type": "stream",
     "text": [
      "Chaudhary kanishk\n",
      "Enter a number = 1234\n",
      "Reverse of 1234 is 4321.\n"
     ]
    }
   ],
   "source": [
    "print(\"Chaudhary kanishk\")\n",
    "\n",
    "def reverse_num(num):\n",
    "    rev = 0\n",
    "    while num != 0:\n",
    "        rev = rev * 10 + num % 10\n",
    "        num //= 10\n",
    "    return rev\n",
    "\n",
    "num = int(input(\"Enter a number = \"))\n",
    "print(\"Enter a number =\", num)\n",
    "print(f\"Reverse of {num} is {reverse_num(num)}.\")"
   ]
  },
  {
   "cell_type": "markdown",
   "metadata": {},
   "source": [
    "### WAP to find weather the given no is an Armstrong no."
   ]
  },
  {
   "cell_type": "code",
   "execution_count": 5,
   "metadata": {},
   "outputs": [
    {
     "name": "stdout",
     "output_type": "stream",
     "text": [
      "Chaudhary kanishk\n",
      "Enter a Number = 383\n",
      "383 is not an armstrong number\n"
     ]
    }
   ],
   "source": [
    "print(\"Chaudhary kanishk\")\n",
    "\n",
    "def is_armstrong(num):\n",
    "    temp = num\n",
    "    digits = []\n",
    "    while temp != 0:\n",
    "        d = temp % 10\n",
    "        digits.append(d)\n",
    "        temp //= 10\n",
    "    \n",
    "    length = len(digits)\n",
    "    new_num = 0\n",
    "    for dig in digits:\n",
    "        new_num += dig ** length\n",
    "    if new_num == num:\n",
    "        return True\n",
    "    return False\n",
    "\n",
    "num = int(input(\"Enter a Number = \"))\n",
    "print(\"Enter a Number =\", num)\n",
    "\n",
    "if is_armstrong(num):\n",
    "    print(f\"{num} is an armstrong number\")\n",
    "else:\n",
    "    print(f\"{num} is not an armstrong number\")\n",
    "\n",
    "    "
   ]
  },
  {
   "cell_type": "markdown",
   "metadata": {},
   "source": []
  }
 ],
 "metadata": {
  "kernelspec": {
   "display_name": "base",
   "language": "python",
   "name": "python3"
  },
  "language_info": {
   "codemirror_mode": {
    "name": "ipython",
    "version": 3
   },
   "file_extension": ".py",
   "mimetype": "text/x-python",
   "name": "python",
   "nbconvert_exporter": "python",
   "pygments_lexer": "ipython3",
   "version": "3.12.2"
  }
 },
 "nbformat": 4,
 "nbformat_minor": 2
}
