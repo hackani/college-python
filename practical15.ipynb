{
 "cells": [
  {
   "cell_type": "markdown",
   "metadata": {},
   "source": [
    "# <center>Practical 15</center>"
   ]
  },
  {
   "cell_type": "markdown",
   "metadata": {},
   "source": [
    "### WAP to return the highest and lowest values in the list"
   ]
  },
  {
   "cell_type": "code",
   "execution_count": 2,
   "metadata": {},
   "outputs": [
    {
     "name": "stdout",
     "output_type": "stream",
     "text": [
      "chaudhary kanishk\n",
      "nums : [47, 76, 47, 38, 22, 35, 6, 52, 95, 46]\n",
      "max : 95\n",
      "min : 6\n"
     ]
    }
   ],
   "source": [
    "print(\"chaudhary kanishk\")\n",
    "\n",
    "import random\n",
    "\n",
    "nums = [random.randint(1, 100) for _ in range(10)]\n",
    "print(\"nums :\", nums)\n",
    "print(\"max :\", max(nums))\n",
    "print(\"min :\", min(nums))\n"
   ]
  },
  {
   "cell_type": "markdown",
   "metadata": {},
   "source": [
    "### WAP to swap two values using tuple assignment."
   ]
  },
  {
   "cell_type": "code",
   "execution_count": 3,
   "metadata": {},
   "outputs": [
    {
     "name": "stdout",
     "output_type": "stream",
     "text": [
      "chaudhary kanishk\n",
      "Before swapping:\n",
      "a = 5\n",
      "b = 10\n",
      "After swapping:\n",
      "a = 10\n",
      "b = 5\n"
     ]
    }
   ],
   "source": [
    "print(\"chaudhary kanishk\")\n",
    "\n",
    "def swap_values(a, b):\n",
    "    print(\"Before swapping:\")\n",
    "    print(\"a =\", a)\n",
    "    print(\"b =\", b)\n",
    "\n",
    "    a, b = b, a\n",
    "\n",
    "    print(\"After swapping:\")\n",
    "    print(\"a =\", a)\n",
    "    print(\"b =\", b)\n",
    "\n",
    "swap_values(5, 10)"
   ]
  },
  {
   "cell_type": "markdown",
   "metadata": {},
   "source": [
    "### WAP using a function that returns the area and circumference of a circle whose radius is passed as an argument."
   ]
  },
  {
   "cell_type": "code",
   "execution_count": 4,
   "metadata": {},
   "outputs": [
    {
     "name": "stdout",
     "output_type": "stream",
     "text": [
      "chaudhary kanishk\n",
      "radius : 4.0\n",
      "Area: 50.26548245743669\n",
      "Circumference: 25.132741228718345\n"
     ]
    }
   ],
   "source": [
    "print(\"chaudhary kanishk\")\n",
    "import math\n",
    "\n",
    "def calculate_area_and_circumference(radius):\n",
    "    area = math.pi * radius**2\n",
    "    circumference = 2 * math.pi * radius    \n",
    "    return area, circumference\n",
    "\n",
    "def main():\n",
    "    radius = float(input(\"radius : \"))\n",
    "    print(\"radius :\", radius)\n",
    "    area, circumference = calculate_area_and_circumference(radius)\n",
    "    print(\"Area:\", area)\n",
    "    print(\"Circumference:\", circumference)\n",
    "\n",
    "if __name__ == \"__main__\":\n",
    "    main()"
   ]
  },
  {
   "cell_type": "markdown",
   "metadata": {},
   "source": [
    "### WAP using filter() function to a list of cubes of numbers from 1 – 10."
   ]
  },
  {
   "cell_type": "code",
   "execution_count": 5,
   "metadata": {},
   "outputs": [
    {
     "name": "stdout",
     "output_type": "stream",
     "text": [
      "chaudhary kanishk\n",
      "[1, 8, 27, 64, 125, 216, 343, 512, 729]\n"
     ]
    }
   ],
   "source": [
    "print(\"chaudhary kanishk\")\n",
    "\n",
    "def is_cube(num):\n",
    "    cube_root = round(num ** (1/3))\n",
    "    return cube_root ** 3 == num\n",
    "\n",
    "numbers = [i**3 for i in range(1, 10)]\n",
    "\n",
    "cubes_filter = filter(is_cube, numbers)\n",
    "\n",
    "cubes_list = list(cubes_filter)\n",
    "print(cubes_list)\n"
   ]
  },
  {
   "cell_type": "markdown",
   "metadata": {},
   "source": [
    "### WAP that reverse a list using a loop"
   ]
  },
  {
   "cell_type": "code",
   "execution_count": 6,
   "metadata": {},
   "outputs": [
    {
     "name": "stdout",
     "output_type": "stream",
     "text": [
      "chaudhary kanishk\n",
      "Original list: [1, 2, 3, 4, 5]\n",
      "Reversed list: [5, 4, 3, 2, 1]\n"
     ]
    }
   ],
   "source": [
    "print(\"chaudhary kanishk\")\n",
    "\n",
    "def reverse_list(lst):\n",
    "    length = len(lst)\n",
    "    for i in range(length // 2):\n",
    "        # Swap elements from the beginning and end\n",
    "        lst[i], lst[length - i - 1] = lst[length - i - 1], lst[i]\n",
    "\n",
    "my_list = [1, 2, 3, 4, 5]\n",
    "print(\"Original list:\", my_list)\n",
    "reverse_list(my_list)\n",
    "print(\"Reversed list:\", my_list)"
   ]
  },
  {
   "cell_type": "markdown",
   "metadata": {},
   "source": [
    "### WAP to find whether a particular element is present in the list using a loop."
   ]
  },
  {
   "cell_type": "code",
   "execution_count": 7,
   "metadata": {},
   "outputs": [
    {
     "name": "stdout",
     "output_type": "stream",
     "text": [
      "chaudhary kanishk\n",
      "3 is present in the list.\n"
     ]
    }
   ],
   "source": [
    "print(\"chaudhary kanishk\")\n",
    "\n",
    "my_list = [1, 2, 3, 4, 5]\n",
    "target_element = 3\n",
    "\n",
    "if target_element in my_list:\n",
    "    print(f\"{target_element} is present in the list.\")\n",
    "else:\n",
    "    print(f\"{target_element} is not present in the list.\")\n"
   ]
  },
  {
   "cell_type": "markdown",
   "metadata": {},
   "source": [
    "### WAP that prints all consonants in a string using list comprehension."
   ]
  },
  {
   "cell_type": "code",
   "execution_count": 8,
   "metadata": {},
   "outputs": [
    {
     "name": "stdout",
     "output_type": "stream",
     "text": [
      "chaudhary kanishk\n",
      "Consonants in the string: Hll Wrld\n"
     ]
    }
   ],
   "source": [
    "print(\"chaudhary kanishk\")\n",
    "\n",
    "def is_consonant(char):\n",
    "    return char not in \"AEIOUaeiou\"\n",
    "input_string = \"Hello World\"\n",
    "consonants = [char for char in input_string if is_consonant(char)]\n",
    "print(\"Consonants in the string:\", ''.join(consonants))"
   ]
  },
  {
   "cell_type": "markdown",
   "metadata": {},
   "source": [
    "### WAP that counts the number of times a value appears in the list. Use a loop to do the same."
   ]
  },
  {
   "cell_type": "code",
   "execution_count": 9,
   "metadata": {},
   "outputs": [
    {
     "name": "stdout",
     "output_type": "stream",
     "text": [
      "chaudhary kanishk\n",
      "The value 2 appears 4 times in the list.\n"
     ]
    }
   ],
   "source": [
    "print(\"chaudhary kanishk\")\n",
    "def count_occurrences(lst, value):\n",
    "    count = 0\n",
    "    for item in lst:\n",
    "        if item == value:\n",
    "            count += 1\n",
    "    return count\n",
    "\n",
    "my_list = [1, 2, 3, 4, 2, 2, 5, 2]\n",
    "target_value = 2\n",
    "occurrences = count_occurrences(my_list, target_value)\n",
    "print(f\"The value {target_value} appears {occurrences} times in the list.\")"
   ]
  },
  {
   "cell_type": "markdown",
   "metadata": {},
   "source": [
    "### WAP to insert a value in the list at the specified location using while loop."
   ]
  },
  {
   "cell_type": "code",
   "execution_count": 10,
   "metadata": {},
   "outputs": [
    {
     "name": "stdout",
     "output_type": "stream",
     "text": [
      "chaudahry kanishk\n",
      "Updated list: [1, 2, 10, 3, 4, 5]\n"
     ]
    }
   ],
   "source": [
    "print(\"chaudahry kanishk\")\n",
    "def insert_value_at_location(lst, value, location):\n",
    "    index = 0\n",
    "    while index < len(lst):\n",
    "        if index == location:\n",
    "            lst.insert(location, value)\n",
    "            break\n",
    "        index += 1\n",
    "    else:\n",
    "        lst.append(value)\n",
    "\n",
    "my_list = [1, 2, 3, 4, 5]\n",
    "insert_value_at_location(my_list, 10, 2)\n",
    "print(\"Updated list:\", my_list)"
   ]
  },
  {
   "cell_type": "markdown",
   "metadata": {},
   "source": [
    "### WAP to transpose two matrices."
   ]
  },
  {
   "cell_type": "code",
   "execution_count": 11,
   "metadata": {},
   "outputs": [
    {
     "name": "stdout",
     "output_type": "stream",
     "text": [
      "chaudhary kanishk\n"
     ]
    },
    {
     "name": "stdout",
     "output_type": "stream",
     "text": [
      "Transposed Matrix 1:\n",
      "[[1 4 7]\n",
      " [2 5 8]\n",
      " [3 6 9]]\n",
      "\n",
      "Transposed Matrix 2:\n",
      "[[9 6 3]\n",
      " [8 5 2]\n",
      " [7 4 1]]\n"
     ]
    }
   ],
   "source": [
    "print(\"chaudhary kanishk\")\n",
    "import numpy as np\n",
    "\n",
    "matrix1 = np.array([\n",
    "    [1, 2, 3],\n",
    "    [4, 5, 6],\n",
    "    [7, 8, 9]\n",
    "])\n",
    "matrix2 = np.array([\n",
    "    [9, 8, 7],\n",
    "    [6, 5, 4],\n",
    "    [3, 2, 1]\n",
    "])\n",
    "transposed_matrix1 = np.transpose(matrix1)\n",
    "transposed_matrix2 = np.transpose(matrix2)\n",
    "print(\"Transposed Matrix 1:\")\n",
    "print(transposed_matrix1)\n",
    "print(\"\\nTransposed Matrix 2:\")\n",
    "print(transposed_matrix2)"
   ]
  },
  {
   "cell_type": "code",
   "execution_count": null,
   "metadata": {},
   "outputs": [],
   "source": []
  }
 ],
 "metadata": {
  "kernelspec": {
   "display_name": "base",
   "language": "python",
   "name": "python3"
  },
  "language_info": {
   "codemirror_mode": {
    "name": "ipython",
    "version": 3
   },
   "file_extension": ".py",
   "mimetype": "text/x-python",
   "name": "python",
   "nbconvert_exporter": "python",
   "pygments_lexer": "ipython3",
   "version": "3.12.2"
  }
 },
 "nbformat": 4,
 "nbformat_minor": 2
}
