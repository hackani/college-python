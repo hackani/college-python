{
 "cells": [
  {
   "cell_type": "markdown",
   "metadata": {},
   "source": [
    "# <center> Practical 10</center>"
   ]
  },
  {
   "cell_type": "markdown",
   "metadata": {},
   "source": [
    "### WAP to demonstrate the indexing and slicing of a string"
   ]
  },
  {
   "cell_type": "code",
   "execution_count": 1,
   "metadata": {},
   "outputs": [
    {
     "name": "stdout",
     "output_type": "stream",
     "text": [
      "Chaudhary kanishk\n",
      "Enter a string :  hello\n",
      "Enter a strting num : 1\n",
      "Enter a ending num : 2\n",
      "letter at position 1 is : e\n",
      "first 1 letters : h\n",
      "last 1 letters : o\n",
      "from 1 letter to 2 letter : el\n"
     ]
    }
   ],
   "source": [
    "print(\"Chaudhary kanishk\")\n",
    "string = input(\"Enter a string : \")\n",
    "print(\"Enter a string : \", string)\n",
    "n=int(input(\"Enter a number:\"))\n",
    "print(\"Enter a strting num :\", n)\n",
    "m=int(input(\"Enter a number:\"))\n",
    "print(\"Enter a ending num :\", m)\n",
    "\n",
    "print(\"letter at position\",n,\"is :\", string[n])\n",
    "print(\"first %d letters : %s\"%(n, string[:n]))\n",
    "print(\"last %d letters : %s\"%(n, string[(-1*n):]))\n",
    "print(\"from %d letter to %d letter : %s\"%(n,m, string[n:m+1]))"
   ]
  },
  {
   "cell_type": "markdown",
   "metadata": {},
   "source": [
    "### WAP to print following pattern\n",
    "<pre>\n",
    "A\n",
    "A B\n",
    "A B C\n",
    "A B C D\n",
    "</pre>"
   ]
  },
  {
   "cell_type": "code",
   "execution_count": 2,
   "metadata": {},
   "outputs": [
    {
     "name": "stdout",
     "output_type": "stream",
     "text": [
      "Chaudhary kanishk\n",
      "Enter Rows: 5\n",
      "A \n",
      "A B \n",
      "A B C \n",
      "A B C D \n",
      "A B C D E \n"
     ]
    }
   ],
   "source": [
    "print(\"Chaudhary kanishk\")\n",
    "rows = int(input(\"Enter Rows: \"))\n",
    "print(\"Enter Rows:\", rows)\n",
    "\n",
    "for i in range(1,rows+1):\n",
    "    for j in range(i):\n",
    "        print(chr(j + 65), end=\" \")\n",
    "    print()\n",
    "        "
   ]
  },
  {
   "cell_type": "markdown",
   "metadata": {},
   "source": [
    "### WAP to demonstrate the concatination , appending, and repeting operation on stings using + += and * operaters"
   ]
  },
  {
   "cell_type": "code",
   "execution_count": 3,
   "metadata": {},
   "outputs": [
    {
     "name": "stdout",
     "output_type": "stream",
     "text": [
      "Chaudhary kanishk\n",
      "Enter your name :  kanishk\n",
      "after concatination:  Hello, kanishk\n",
      "Enter your surname : chaudhary\n",
      "after appending:  Hello, kanishk chaudhary\n",
      "\n",
      "reapeting it 2 times\n",
      "Hello, kanishk chaudhary\n",
      "Hello, kanishk chaudhary\n",
      "\n"
     ]
    }
   ],
   "source": [
    "print(\"Chaudhary kanishk\")\n",
    "# concatination\n",
    "string = \"Hello, \" + input(\"Enter your name : \")\n",
    "print(\"Enter your name :\", string[6:])\n",
    "print(\"after concatination: \",string)\n",
    "\n",
    "surname = input(\"Enter your surname : \")\n",
    "print(\"Enter your surname :\", surname)\n",
    "\n",
    "string += (\" \" + surname + \"\\n\")\n",
    "print(\"after appending: \",string)\n",
    "\n",
    "srting = string*2\n",
    "print(\"reapeting it 2 times\\n\"+ srting)"
   ]
  },
  {
   "cell_type": "markdown",
   "metadata": {},
   "source": [
    "### WAP to iterate a given string using while and for loop"
   ]
  },
  {
   "cell_type": "code",
   "execution_count": 4,
   "metadata": {},
   "outputs": [
    {
     "name": "stdout",
     "output_type": "stream",
     "text": [
      "Chaudhary kanishk\n",
      "Enter a string: hello kanishk\n",
      "Printing all the vowols\n",
      "e o a i "
     ]
    }
   ],
   "source": [
    "print(\"Chaudhary kanishk\")\n",
    "string = input(\"Enter a string: \")\n",
    "print(\"Enter a string:\", string)\n",
    "print(\"Printing all the vowols\")\n",
    "for letter in string:\n",
    "    if letter.lower() in ['a', 'e', 'i', 'o', 'u']:\n",
    "        print(letter, end=\" \")"
   ]
  },
  {
   "cell_type": "markdown",
   "metadata": {},
   "source": [
    "### WAP to remove nth index charecter from a non-empty string"
   ]
  },
  {
   "cell_type": "code",
   "execution_count": 6,
   "metadata": {},
   "outputs": [
    {
     "name": "stdout",
     "output_type": "stream",
     "text": [
      "Chaudhary kanishk\n",
      "Enter a string: kanishk hello\n",
      "Enter the index of the character to remove: 4\n",
      "removed index 4.\n",
      "The new string is kanihk hello\n"
     ]
    }
   ],
   "source": [
    "print(\"Chaudhary kanishk\")\n",
    "string = input(\"Enter a string: \")\n",
    "print(\"Enter a string:\",string)\n",
    "\n",
    "index = int(input(\"Enter the index of the character to remove: \"))\n",
    "print(\"Enter the index of the character to remove:\", index)\n",
    "\n",
    "new_string = \"\"\n",
    "for i in range(len(string)):\n",
    "    if i != index:\n",
    "        new_string += string[i]\n",
    "    \n",
    "print(\"removed index %d.\\nThe new string is %s\"%(index, new_string))"
   ]
  },
  {
   "cell_type": "markdown",
   "metadata": {},
   "source": [
    "### WAP to calculate the length of a string do not use any buile in function len()"
   ]
  },
  {
   "cell_type": "code",
   "execution_count": 7,
   "metadata": {},
   "outputs": [
    {
     "name": "stdout",
     "output_type": "stream",
     "text": [
      "Chaudhary kanishk\n",
      "Enter a string: kanishk\n",
      "length of the string is 7\n"
     ]
    }
   ],
   "source": [
    "print(\"Chaudhary kanishk\")\n",
    "string = input(\"Enter a string: \")\n",
    "print(\"Enter a string:\", string)\n",
    "\n",
    "len = 0\n",
    "for _ in string:\n",
    "    len += 1\n",
    "\n",
    "print(\"length of the string is\", len)"
   ]
  },
  {
   "cell_type": "markdown",
   "metadata": {},
   "source": [
    "### WAP to calculate return string in title case. do not use any buile in function title()"
   ]
  },
  {
   "cell_type": "code",
   "execution_count": 8,
   "metadata": {},
   "outputs": [
    {
     "name": "stdout",
     "output_type": "stream",
     "text": [
      "chaudhary kanishk\n",
      "Enter a string: hello kanishk\n",
      "Title Case: Hello Kanishk\n"
     ]
    }
   ],
   "source": [
    "print(\"chaudhary kanishk\")\n",
    "def title_case(input_string):\n",
    "    words = input_string.split()\n",
    "    title_case_words = [word[0].upper() + word[1:].lower() for word in words]\n",
    "    return ' '.join(title_case_words)\n",
    "\n",
    "\n",
    "input_str = input(\"Enter a string: \")\n",
    "print(\"Enter a string:\", input_str)\n",
    "result = title_case(input_str)\n",
    "print(\"Title Case:\", result)"
   ]
  }
 ],
 "metadata": {
  "kernelspec": {
   "display_name": "base",
   "language": "python",
   "name": "python3"
  },
  "language_info": {
   "codemirror_mode": {
    "name": "ipython",
    "version": 3
   },
   "file_extension": ".py",
   "mimetype": "text/x-python",
   "name": "python",
   "nbconvert_exporter": "python",
   "pygments_lexer": "ipython3",
   "version": "3.12.2"
  }
 },
 "nbformat": 4,
 "nbformat_minor": 2
}
