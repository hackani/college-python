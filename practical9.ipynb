{
 "cells": [
  {
   "cell_type": "markdown",
   "metadata": {},
   "source": [
    "### <center>Practical 9</center>"
   ]
  },
  {
   "cell_type": "markdown",
   "metadata": {},
   "source": [
    "#### WAP to calculate the factorial of a number"
   ]
  },
  {
   "cell_type": "code",
   "execution_count": 1,
   "metadata": {},
   "outputs": [
    {
     "name": "stdout",
     "output_type": "stream",
     "text": [
      "Chaudhary kanishk\n",
      "Enter a number: 5\n",
      "Factorial of 5 is 120\n"
     ]
    }
   ],
   "source": [
    "print(\"Chaudhary kanishk\")\n",
    "def main():\n",
    "    x = int(input(\"Enter a number: \"))\n",
    "    print(f\"Enter a number: {x}\")\n",
    "    print(f\"Factorial of {x} is {factorial(x)}\")\n",
    "    \n",
    "def factorial(x):\n",
    "    if x < 1:\n",
    "        return 1\n",
    "    else:\n",
    "        fact = 1;\n",
    "        while x > 0:\n",
    "            fact *= x;\n",
    "            x -= 1\n",
    "        return fact\n",
    "main()\n",
    "    "
   ]
  },
  {
   "cell_type": "markdown",
   "metadata": {},
   "source": [
    "#### WAP to print multiplication table"
   ]
  },
  {
   "cell_type": "code",
   "execution_count": 2,
   "metadata": {},
   "outputs": [
    {
     "name": "stdout",
     "output_type": "stream",
     "text": [
      "Chaudhary kanishk\n",
      "Enter the number = 3\n",
      "1 * 3 = 3\n",
      "2 * 3 = 6\n",
      "3 * 3 = 9\n",
      "4 * 3 = 12\n",
      "5 * 3 = 15\n",
      "6 * 3 = 18\n",
      "7 * 3 = 21\n",
      "8 * 3 = 24\n",
      "9 * 3 = 27\n",
      "10 * 3 = 30\n"
     ]
    }
   ],
   "source": [
    "print(\"Chaudhary kanishk\")\n",
    "def print_multiplication_table(x):\n",
    "    for i in range(10):\n",
    "        print(f\"{i+1} * {x} = {x*(i+1)}\")\n",
    "        \n",
    "x = int(input(\"Enter the number = \"))\n",
    "print(\"Enter the number =\", x)\n",
    "print_multiplication_table(x)\n",
    "        "
   ]
  },
  {
   "cell_type": "markdown",
   "metadata": {},
   "source": [
    "#### WAP to print the sum of the following nth series\n",
    "##### (a) 1 + 1/2 + 1/9 + . . . + (1/n^2)\n",
    "##### (b) 1 + (1+2) + (1+2+3) + . . . + (1+2+3+4+. . .+n)\n",
    "##### (c) sin(x) = x - x^3/3! + x^5/5! - x^7/7! + x^9/9!\n",
    "##### (d) cos(x) = 1 - x^2/2! + x^4/4! - x^6/6! + x^78/8!\n",
    "##### (e) 1 - x + x^2/2! - x^3/3! + . . . + x^n/n!"
   ]
  },
  {
   "cell_type": "code",
   "execution_count": 3,
   "metadata": {},
   "outputs": [
    {
     "name": "stdout",
     "output_type": "stream",
     "text": [
      "Chaudhary kanishk\n",
      "Enter the number of terms = 2\n",
      "sum = 1.25\n"
     ]
    }
   ],
   "source": [
    "# (a) 1 + 1/2 + 1/9 + . . . + (1/n^2)\n",
    "print(\"Chaudhary kanishk\")\n",
    "def a_series(n):\n",
    "    sum = 0\n",
    "    for i in range(1, n+1):\n",
    "        sum += 1/(i**2)\n",
    "    return sum\n",
    "\n",
    "n = int(input(\"Enter the number of terms = \"))\n",
    "print(\"Enter the number of terms =\", n)\n",
    "print(\"sum =\", a_series(n))"
   ]
  },
  {
   "cell_type": "code",
   "execution_count": 4,
   "metadata": {},
   "outputs": [
    {
     "name": "stdout",
     "output_type": "stream",
     "text": [
      "Chaudhary kanishk\n",
      "Enter the number of terms = 3\n",
      "sum = 10.0\n"
     ]
    }
   ],
   "source": [
    "# (b) 1 + (1+2) + (1+2+3) + . . . + (1+2+3+4+. . .+n)\n",
    "print(\"Chaudhary kanishk\")\n",
    "def b_series(n):\n",
    "    sum = 0\n",
    "    for i in range(1, n+1):\n",
    "        sum += (i*(i+1))/2\n",
    "    return sum\n",
    "\n",
    "n = int(input(\"Enter the number of terms = \"))\n",
    "print(\"Enter the number of terms =\", n)\n",
    "print(\"sum =\", b_series(n))"
   ]
  },
  {
   "cell_type": "code",
   "execution_count": 5,
   "metadata": {},
   "outputs": [
    {
     "name": "stdout",
     "output_type": "stream",
     "text": [
      "Chaudhary kanishk\n"
     ]
    },
    {
     "name": "stdout",
     "output_type": "stream",
     "text": [
      "Enter the number of terms = 2\n",
      "Enter x =  1\n",
      "sin(1) = 0.8333333333333334\n"
     ]
    }
   ],
   "source": [
    "# (c) sin(x) = x - x^3/3! + x^5/5! - x^7/7! + x^9/9!\n",
    "print(\"Chaudhary kanishk\")\n",
    "\n",
    "import math\n",
    "def c_series(n, x):\n",
    "    sum = 0\n",
    "    sign = 1\n",
    "    for i in range(1, 2*n, 2):\n",
    "        fact = math.factorial(i)\n",
    "        sum +=  sign*((x**i)/fact)\n",
    "        sign *= -1\n",
    "    return sum\n",
    "\n",
    "n = int(input(\"Enter the number of terms = \"))\n",
    "x = int(input(\"Enter x = \"))\n",
    "print(\"Enter the number of terms =\", n)\n",
    "print(\"Enter x = \", x)\n",
    "print(f\"sin({x}) = {c_series(n, x)}\")"
   ]
  },
  {
   "cell_type": "code",
   "execution_count": 6,
   "metadata": {},
   "outputs": [
    {
     "name": "stdout",
     "output_type": "stream",
     "text": [
      "Chaudhary kanishk\n",
      "Enter the number of terms = 2\n",
      "Enter x = 1\n",
      "cos(1) = 0.5\n"
     ]
    }
   ],
   "source": [
    "# (d) cos(x) = 1 - x^2/2! + x^4/4! - x^6/6! + x^8/8!\n",
    "print(\"Chaudhary kanishk\")\n",
    "\n",
    "def d_series(n, x):\n",
    "    sum = 0\n",
    "    sign = 1\n",
    "    for i in range(0, 2*n, 2):\n",
    "        fact = math.factorial(i)\n",
    "        sum += sign*((x**i)/fact)\n",
    "        sign *= -1\n",
    "    return sum\n",
    "\n",
    "n = int(input(\"Enter the number of terms = \"))\n",
    "x = int(input(\"Enter x = \"))\n",
    "print(\"Enter the number of terms =\", n)\n",
    "print(\"Enter x =\", x)\n",
    "print(f\"cos({x}) = {d_series(n, x)}\")"
   ]
  },
  {
   "cell_type": "code",
   "execution_count": 7,
   "metadata": {},
   "outputs": [
    {
     "name": "stdout",
     "output_type": "stream",
     "text": [
      "Chaudhary kanishk\n",
      "Enter the number of terms = 3\n",
      "Enter x = 1\n",
      "sum = 0.5\n"
     ]
    }
   ],
   "source": [
    "# (e) 1 - x + x^2/2! - x^3/3! + . . . + x^n/n!\n",
    "print(\"Chaudhary kanishk\")\n",
    "\n",
    "def e_series(n, x):\n",
    "    sum = 0\n",
    "    sign = 1\n",
    "    for i in range(0, n):\n",
    "        fact = math.factorial(i)\n",
    "        sum += sign*((x**i)/fact)\n",
    "        sign *= -1\n",
    "    return sum\n",
    "\n",
    "n = int(input(\"Enter the number of terms = \"))\n",
    "x = int(input(\"Enter x = \"))\n",
    "print(\"Enter the number of terms =\", n)\n",
    "print(\"Enter x =\", x)\n",
    "print(f\"sum = {e_series(n, x)}\")"
   ]
  },
  {
   "cell_type": "markdown",
   "metadata": {},
   "source": [
    "### WAP to pritn following paterns\n",
    "<pre>\n",
    "(a) 1\n",
    "    1 2\n",
    "    1 2 3\n",
    "    1 2 3 4\n",
    "\n",
    "(b)       1\n",
    "        2 1\n",
    "      3 2 1\n",
    "    4 3 2 1\n",
    "\n",
    "(c)       1\n",
    "        2 1 2\n",
    "      3 2 1 2 3\n",
    "    4 3 2 1 2 3 4\n",
    "\n",
    "(d) ****\n",
    "    *  *\n",
    "    *  *\n",
    "    ****\n",
    "\n",
    "(e) 1\n",
    "    0 1\n",
    "    1 0 1\n",
    "\n",
    "(f)     1\n",
    "      1 2 1\n",
    "    1 2 3 2 1\n",
    "      1 2 1\n",
    "        1\n",
    "</pre>"
   ]
  },
  {
   "cell_type": "code",
   "execution_count": 16,
   "metadata": {},
   "outputs": [
    {
     "name": "stdout",
     "output_type": "stream",
     "text": [
      "Chaudhary kanishk\n",
      "1\n",
      "12\n",
      "123\n",
      "1234\n",
      "12345\n"
     ]
    }
   ],
   "source": [
    "# pattern a\n",
    "print(\"Chaudhary kanishk\")\n",
    "\n",
    "height = int(input(\"Height = \"))\n",
    "\n",
    "for i in range(height):\n",
    "    for j in range(i+1):\n",
    "        print(j+1, end=\"\")\n",
    "    print()\n"
   ]
  },
  {
   "cell_type": "code",
   "execution_count": 17,
   "metadata": {},
   "outputs": [
    {
     "name": "stdout",
     "output_type": "stream",
     "text": [
      "Chaudhary kanishk\n",
      "      1\n",
      "     12\n",
      "    123\n",
      "   1234\n",
      "  12345\n"
     ]
    }
   ],
   "source": [
    "# pattern b\n",
    "print(\"Chaudhary kanishk\")\n",
    "\n",
    "height = int(input(\"Height = \"))\n",
    "\n",
    "for i in range(height):\n",
    "    print(\" \"*(height-i+1), end=\"\")    \n",
    "    for j in range(i+1):\n",
    "        print(j+1, end=\"\")\n",
    "    print()\n"
   ]
  },
  {
   "cell_type": "code",
   "execution_count": 18,
   "metadata": {},
   "outputs": [
    {
     "name": "stdout",
     "output_type": "stream",
     "text": [
      "Chaudhary kanishk\n",
      "      1\n",
      "     121\n",
      "    12321\n",
      "   1234321\n",
      "  123454321\n"
     ]
    }
   ],
   "source": [
    "# pattern c\n",
    "print(\"Chaudhary kanishk\")\n",
    "\n",
    "height = int(input(\"Height = \"))\n",
    "\n",
    "for i in range(height):\n",
    "    print(\" \"*(height-i+1), end=\"\")    \n",
    "    for j in range(i+1):\n",
    "        print(j+1, end=\"\")\n",
    "    for j in range(i):\n",
    "        print(i-j, end=\"\")\n",
    "    print()\n"
   ]
  },
  {
   "cell_type": "code",
   "execution_count": 19,
   "metadata": {},
   "outputs": [
    {
     "name": "stdout",
     "output_type": "stream",
     "text": [
      "Chaudhary kanishk\n",
      "*****\n",
      "*   *\n",
      "*   *\n",
      "*   *\n",
      "*****\n"
     ]
    }
   ],
   "source": [
    "# pattern d\n",
    "print(\"Chaudhary kanishk\")\n",
    "\n",
    "height = int(input(\"Height = \"))\n",
    "\n",
    "for i in range(height):\n",
    "    if ((i==0) or (i==height-1)):\n",
    "        print(\"*\"*height, end=\"\")\n",
    "    else:\n",
    "        for j in range(height):\n",
    "            if ((j==0) or (j==height-1)):\n",
    "                print(\"*\", end=\"\")\n",
    "            else:\n",
    "                print(\" \", end=\"\")\n",
    "    print()\n"
   ]
  },
  {
   "cell_type": "code",
   "execution_count": 12,
   "metadata": {},
   "outputs": [
    {
     "name": "stdout",
     "output_type": "stream",
     "text": [
      "Chaudhary kanishk\n",
      "1\n",
      "01\n",
      "101\n",
      "0101\n",
      "10101\n"
     ]
    }
   ],
   "source": [
    "# pattern e\n",
    "print(\"Chaudhary kanishk\")\n",
    "\n",
    "height = int(input(\"Height = \"))\n",
    "x = 1\n",
    "for i in range(height):\n",
    "    if i%2 == 0:\n",
    "        x = 1\n",
    "    else:\n",
    "        x = 0\n",
    "    for j in range(i+1):\n",
    "        print(x, end=\"\")\n",
    "        if x==1:\n",
    "            x = 0\n",
    "        else:\n",
    "            x = 1\n",
    "    print()\n"
   ]
  },
  {
   "cell_type": "code",
   "execution_count": 13,
   "metadata": {},
   "outputs": [
    {
     "name": "stdout",
     "output_type": "stream",
     "text": [
      "Chaudhary kanishk\n",
      "Enter the size : 5\n",
      "    1 \n",
      "  1 2 1 \n",
      "1 2 3 2 1 \n",
      "  1 2 1 \n",
      "    1 \n"
     ]
    }
   ],
   "source": [
    "# parrten f\n",
    "print(\"Chaudhary kanishk\")\n",
    "\n",
    "# prints 1 2 3 2 1\n",
    "def print_pattern(size):\n",
    "    for i in range(1, size + 1):\n",
    "        print(i, end=\" \")\n",
    "\n",
    "    for i in range(size - 1, 0, -1):\n",
    "        print(i, end=\" \")\n",
    "\n",
    "size = int(input(\"Enter the size : \"))\n",
    "print(\"Enter the size :\", size)\n",
    "for i in range(1, size+1):\n",
    "    if i > (size+1)//2:\n",
    "        print(\" \"*((i*2) - (size + 1)), end=\"\")\n",
    "        print_pattern(size + 1 - i)\n",
    "    else:\n",
    "        print(\" \"*((size + 1) - (i*2)), end=\"\")\n",
    "        print_pattern(i)\n",
    "    print()\n"
   ]
  },
  {
   "cell_type": "markdown",
   "metadata": {},
   "source": [
    "### WAP to calculate squre root of a no. demonstrate the use of cotinue and break statement "
   ]
  },
  {
   "cell_type": "code",
   "execution_count": 14,
   "metadata": {},
   "outputs": [
    {
     "name": "stdout",
     "output_type": "stream",
     "text": [
      "Chaudhary kanishk\n",
      "Enter a number :  5.0\n",
      "The square root of 5.0 is 2.23606797749979\n",
      "Enter a number :  2.0\n",
      "The square root of 2.0 is 1.4142135623730951\n",
      "Enter a number :  -2.0\n",
      "Exiting\n"
     ]
    }
   ],
   "source": [
    "print(\"Chaudhary kanishk\")\n",
    "\n",
    "import math\n",
    "\n",
    "while True:\n",
    "    num = float(input(\"Enter a number (enter -2 to exit) : \"))\n",
    "    print(\"Enter a number : \", num)\n",
    "    if num == -2:\n",
    "        print(\"Exiting\")\n",
    "        break\n",
    "    if num < 0:\n",
    "        print(\"Please enter a non-negative number.\")\n",
    "        continue\n",
    "    result = math.sqrt(num)\n",
    "    print(f\"The square root of {num} is {result}\")"
   ]
  },
  {
   "cell_type": "markdown",
   "metadata": {},
   "source": [
    "### WAP to demonstrate pass statement"
   ]
  },
  {
   "cell_type": "code",
   "execution_count": 15,
   "metadata": {},
   "outputs": [
    {
     "name": "stdout",
     "output_type": "stream",
     "text": [
      "Chaudhary kanishk\n",
      "a\n",
      "c\n",
      "d\n"
     ]
    }
   ],
   "source": [
    "print(\"Chaudhary kanishk\")\n",
    "\n",
    "li =['a', 'b', 'c', 'd']\n",
    " \n",
    "for i in li:\n",
    "    if(i =='b'):\n",
    "        pass\n",
    "    else:\n",
    "        print(i)"
   ]
  }
 ],
 "metadata": {
  "kernelspec": {
   "display_name": "base",
   "language": "python",
   "name": "python3"
  },
  "language_info": {
   "codemirror_mode": {
    "name": "ipython",
    "version": 3
   },
   "file_extension": ".py",
   "mimetype": "text/x-python",
   "name": "python",
   "nbconvert_exporter": "python",
   "pygments_lexer": "ipython3",
   "version": "3.12.2"
  }
 },
 "nbformat": 4,
 "nbformat_minor": 2
}
