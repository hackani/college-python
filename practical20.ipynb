{
 "cells": [
  {
   "cell_type": "markdown",
   "metadata": {},
   "source": [
    "# <center>Practical 20</center>"
   ]
  },
  {
   "cell_type": "markdown",
   "metadata": {},
   "source": [
    "### 1. Write a NumPy program to create a 3X4 array and iterate over it."
   ]
  },
  {
   "cell_type": "code",
   "execution_count": 1,
   "metadata": {},
   "outputs": [
    {
     "name": "stdout",
     "output_type": "stream",
     "text": [
      "Kanishk Chaudhari\n",
      "1 2 3 4 \n",
      "5 6 7 8 \n",
      "9 10 11 12 \n"
     ]
    }
   ],
   "source": [
    "print(\"Kanishk Chaudhari\")\n",
    "import numpy as np\n",
    "\n",
    "array = np.array([[1, 2, 3, 4], [5, 6, 7, 8], [9, 10, 11, 12]])\n",
    "for row in array:\n",
    "    for element in row:\n",
    "        print(element, end=\" \")\n",
    "    print()"
   ]
  },
  {
   "cell_type": "markdown",
   "metadata": {},
   "source": [
    "### 2. Write a NumPy program to create a 3x4 matrix filled with values from 10 to 21."
   ]
  },
  {
   "cell_type": "code",
   "execution_count": 2,
   "metadata": {},
   "outputs": [
    {
     "name": "stdout",
     "output_type": "stream",
     "text": [
      "Kanishk Chaudhari\n",
      "[[10 11 12 13]\n",
      " [14 15 16 17]\n",
      " [18 19 20 21]]\n"
     ]
    }
   ],
   "source": [
    "print(\"Kanishk Chaudhari\")\n",
    "import numpy as np\n",
    "matrix = np.arange(10, 22).reshape(3, 4)\n",
    "print(matrix)"
   ]
  },
  {
   "cell_type": "markdown",
   "metadata": {},
   "source": [
    "### 3. Write a NumPy program to create a 10 * 10 matrix, in which the elements on the borders will be equal to 1, and inside 0."
   ]
  },
  {
   "cell_type": "code",
   "execution_count": 3,
   "metadata": {},
   "outputs": [
    {
     "name": "stdout",
     "output_type": "stream",
     "text": [
      "Kanishk Chaudhari\n",
      "[[1. 1. 1. 1. 1. 1. 1. 1. 1. 1.]\n",
      " [1. 0. 0. 0. 0. 0. 0. 0. 0. 1.]\n",
      " [1. 0. 0. 0. 0. 0. 0. 0. 0. 1.]\n",
      " [1. 0. 0. 0. 0. 0. 0. 0. 0. 1.]\n",
      " [1. 0. 0. 0. 0. 0. 0. 0. 0. 1.]\n",
      " [1. 0. 0. 0. 0. 0. 0. 0. 0. 1.]\n",
      " [1. 0. 0. 0. 0. 0. 0. 0. 0. 1.]\n",
      " [1. 0. 0. 0. 0. 0. 0. 0. 0. 1.]\n",
      " [1. 0. 0. 0. 0. 0. 0. 0. 0. 1.]\n",
      " [1. 1. 1. 1. 1. 1. 1. 1. 1. 1.]]\n"
     ]
    }
   ],
   "source": [
    "print(\"Kanishk Chaudhari\")\n",
    "import numpy as np\n",
    "matrix = np.zeros((10, 10))\n",
    "matrix[0]= 1\n",
    "matrix[-1: ] = 1\n",
    "matrix[:, 0] = 1\n",
    "matrix[:, -1] = 1\n",
    "print(matrix)"
   ]
  },
  {
   "cell_type": "markdown",
   "metadata": {},
   "source": [
    "### 4. Write a Python function that takes two 2D arrays as input and returns their matrix product using NumPy."
   ]
  },
  {
   "cell_type": "code",
   "execution_count": 4,
   "metadata": {},
   "outputs": [
    {
     "name": "stdout",
     "output_type": "stream",
     "text": [
      "Kanishk Chaudhari\n",
      "Matrix Product:\n",
      "[[19 22]\n",
      " [43 50]]\n"
     ]
    }
   ],
   "source": [
    "print(\"Kanishk Chaudhari\")\n",
    "import numpy as np\n",
    "array1 = np.array([[1, 2],\n",
    "                   [3, 4]])\n",
    "array2 = np.array([[5, 6],\n",
    "                   [7, 8]])\n",
    "result = np.dot(array1, array2)\n",
    "print(\"Matrix Product:\")\n",
    "print(result)"
   ]
  },
  {
   "cell_type": "markdown",
   "metadata": {},
   "source": [
    "### 5. Write a Python function that takes a 1D NumPy array as input and returns a new array with all even numbers squared and odd numbers unchanged."
   ]
  },
  {
   "cell_type": "code",
   "execution_count": 5,
   "metadata": {},
   "outputs": [
    {
     "name": "stdout",
     "output_type": "stream",
     "text": [
      "Kanishk Chaudhari\n",
      "[ 1  4  3 16  5]\n"
     ]
    }
   ],
   "source": [
    "print(\"Kanishk Chaudhari\")\n",
    "import numpy as np\n",
    "array = np.array([1, 2, 3, 4, 5])\n",
    "array[array%2 == 0] **= 2\n",
    "print(array)"
   ]
  },
  {
   "cell_type": "markdown",
   "metadata": {},
   "source": [
    "### 6. Write a NumPy program to compute the sum of all elements, the sum of each column and the sum of each row in a given array."
   ]
  },
  {
   "cell_type": "code",
   "execution_count": 6,
   "metadata": {},
   "outputs": [
    {
     "name": "stdout",
     "output_type": "stream",
     "text": [
      "Kanishk Chaudhari\n",
      "Sum of All Elements: 45\n",
      "Sum of Each Column: [12 15 18]\n",
      "Sum of Each Row: [ 6 15 24]\n"
     ]
    }
   ],
   "source": [
    "print(\"Kanishk Chaudhari\")\n",
    "import numpy as np\n",
    "array = np.array([[1, 2, 3],\n",
    "                  [4, 5, 6],\n",
    "                  [7, 8, 9]])\n",
    "total_sum = np.sum(array)\n",
    "column_sums = np.sum(array, axis=0)\n",
    "row_sums = np.sum(array, axis=1)\n",
    "print(\"Sum of All Elements:\", total_sum)\n",
    "print(\"Sum of Each Column:\", column_sums)\n",
    "print(\"Sum of Each Row:\", row_sums)"
   ]
  },
  {
   "cell_type": "markdown",
   "metadata": {},
   "source": [
    "### 7. Write a NumPy program to add a vector to each row of a given matrix."
   ]
  },
  {
   "cell_type": "code",
   "execution_count": 7,
   "metadata": {},
   "outputs": [
    {
     "name": "stdout",
     "output_type": "stream",
     "text": [
      "Kanishk Chaudhari\n",
      "Resultant Matrix:\n",
      "[[11 13 15]\n",
      " [14 16 18]\n",
      " [17 19 21]]\n"
     ]
    }
   ],
   "source": [
    "print(\"Kanishk Chaudhari\")\n",
    "import numpy as np\n",
    "matrix = np.array([[1, 2, 3],\n",
    "                   [4, 5, 6],\n",
    "                   [7, 8, 9]])\n",
    "vector = np.array([10, 11, 12])\n",
    "result = matrix + vector \n",
    "print(\"Resultant Matrix:\")\n",
    "print(result)"
   ]
  },
  {
   "cell_type": "markdown",
   "metadata": {},
   "source": [
    "### 8. Consider a given series:\n",
    "<pre>\n",
    "QTR1 50000\n",
    "QTR2 65898\n",
    "QTR3 56780\n",
    "QTR4 89000\n",
    "QTRS 77900\n",
    "Write a program in Python Pandas to create and display the series.\n",
    "</pre>"
   ]
  },
  {
   "cell_type": "code",
   "execution_count": 8,
   "metadata": {},
   "outputs": [
    {
     "name": "stdout",
     "output_type": "stream",
     "text": [
      "Kanishk Chaudhari\n",
      "Given Series:\n",
      "QTR1    50000\n",
      "QTR2    65898\n",
      "QTR3    56780\n",
      "QTR4    89000\n",
      "QTRS    77900\n",
      "dtype: int64\n"
     ]
    }
   ],
   "source": [
    "print(\"Kanishk Chaudhari\")\n",
    "import pandas as pd\n",
    "data = {\n",
    "    \"QTR1\" : 50000,\n",
    "    \"QTR2\" : 65898,\n",
    "    \"QTR3\" : 56780,\n",
    "    \"QTR4\" : 89000,\n",
    "    \"QTRS\" : 77900\n",
    "}\n",
    "\n",
    "series = pd.Series(data)\n",
    "print(\"Given Series:\")\n",
    "print(series)"
   ]
  }
 ],
 "metadata": {
  "kernelspec": {
   "display_name": "Python 3",
   "language": "python",
   "name": "python3"
  },
  "language_info": {
   "codemirror_mode": {
    "name": "ipython",
    "version": 3
   },
   "file_extension": ".py",
   "mimetype": "text/x-python",
   "name": "python",
   "nbconvert_exporter": "python",
   "pygments_lexer": "ipython3",
   "version": "3.12.2"
  }
 },
 "nbformat": 4,
 "nbformat_minor": 2
}
