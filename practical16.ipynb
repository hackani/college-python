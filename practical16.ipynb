{
 "cells": [
  {
   "cell_type": "markdown",
   "metadata": {},
   "source": [
    "# <center>Practical 16</center>"
   ]
  },
  {
   "cell_type": "markdown",
   "metadata": {},
   "source": [
    "### 1. Write a program that generates a set of prime numbers and another set of odd numbers. Demonstrate the result of union, intersection, difference, and symmetric difference operations on these sets."
   ]
  },
  {
   "cell_type": "code",
   "execution_count": 1,
   "metadata": {},
   "outputs": [
    {
     "name": "stdout",
     "output_type": "stream",
     "text": [
      "Chaudhary kanishk\n",
      "Odd Numbers:  {3, 5, 7, 9, 11, 13, 15, 17, 19}\n",
      "Even Numbers:  {2, 4, 6, 8, 10, 12, 14, 16, 18}\n",
      "Prime Numbers:  {2, 3, 4, 5, 7, 11, 13, 17, 19}\n",
      "Union (Odd):  {2, 3, 4, 5, 7, 9, 11, 13, 15, 17, 19}\n",
      "Union (Even):  {2, 3, 4, 5, 6, 7, 8, 10, 11, 12, 13, 14, 16, 17, 18, 19}\n",
      "Intersection (Odd):  {3, 5, 7, 11, 13, 17, 19}\n",
      "Intersection (Even):  {2, 4}\n",
      "Difference (Odd):  {9, 15}\n",
      "Difference (Even):  {6, 8, 10, 12, 14, 16, 18}\n",
      "Symmetric Difference (Odd):  {2, 4, 9, 15}\n",
      "Symmetric Difference (Even):  {3, 5, 6, 7, 8, 10, 11, 12, 13, 14, 16, 17, 18, 19}\n"
     ]
    }
   ],
   "source": [
    "print(\"Chaudhary kanishk\")\n",
    "\n",
    "odd=set([x*2+1 for x in range(1,10)])\n",
    "even=set([x*2 for x in range (1,10)])\n",
    "primes=set()\n",
    "for i in range(2,20):\n",
    "    j=2\n",
    "    f=0\n",
    "    while j<i/2:\n",
    "        if i%j==0:\n",
    "            f=1\n",
    "        j+=1\n",
    "    if f==0:\n",
    "        primes.add(i)\n",
    "print(\"Odd Numbers: \", odd)\n",
    "print(\"Even Numbers: \", even)\n",
    "print(\"Prime Numbers: \", primes)\n",
    "print(\"Union (Odd): \", odd.union (primes))\n",
    "print(\"Union (Even): \", even.union (primes))\n",
    "print(\"Intersection (Odd): \", odd.intersection (primes)) \n",
    "print(\"Intersection (Even): \", even.intersection (primes))\n",
    "print(\"Difference (Odd): \", odd.difference (primes))\n",
    "print(\"Difference (Even): \", even.difference (primes))\n",
    "print(\"Symmetric Difference (Odd): \", odd.symmetric_difference (primes))\n",
    "print(\"Symmetric Difference (Even): \", even.symmetric_difference (primes))"
   ]
  },
  {
   "cell_type": "markdown",
   "metadata": {},
   "source": [
    "### 2.\tWrite a program that creates two sets. One of even number in range 1-10 and the other has all composite numbers in range 1-20. Demonstrate the use of all(), isuperset(), len(), sum(), update(), pop(), remove(), add() and clear() functions on sets."
   ]
  },
  {
   "cell_type": "code",
   "execution_count": 2,
   "metadata": {},
   "outputs": [
    {
     "name": "stdout",
     "output_type": "stream",
     "text": [
      "Chaudhary kanishk\n",
      "Odd Numbers: {3, 5, 7, 9, 11, 13, 15, 17, 19}\n",
      "Even Numbers: {2, 4, 6, 8, 10, 12, 14, 16, 18}\n",
      "Composites Numbers:  {1}\n",
      "Superset (Odd):  False\n",
      "Superset (Even):  False\n",
      "Superset (Composites):  True\n",
      "All (Odd):  True\n",
      "All (Even):  True\n",
      "All (Composites):  True\n",
      "Length of Odd Set:  9\n",
      "Length of Even Set:  9\n",
      "Length of Composites Set:  1\n",
      "Sum of All Numbers in Odd Set:  99\n",
      "Sum of All Numbers in Even Set:  90\n",
      "Sum of All Numbers in Composites Set:  1\n"
     ]
    }
   ],
   "source": [
    "print(\"Chaudhary kanishk\")\n",
    "\n",
    "odd = set([x*2+1 for x in range(1,10)])\n",
    "even = set([x*2 for x in range(1,10)])\n",
    "composites = set()\n",
    "for i in range(2,20):\n",
    "    j=2\n",
    "    f=0\n",
    "    while j<i/2:\n",
    "        if i%j == 0:\n",
    "            composites.add(1)\n",
    "        j+=1\n",
    "print(\"Odd Numbers:\", odd)\n",
    "print(\"Even Numbers:\", even)\n",
    "print(\"Composites Numbers: \", composites)\n",
    "print(\"Superset (Odd): \", odd.issuperset (composites))\n",
    "print(\"Superset (Even): \", even.issuperset (composites))\n",
    "print(\"Superset (Composites): \", composites.issuperset(composites))\n",
    "print(\"All (Odd): \", all (odd))\n",
    "print(\"All (Even): \", all(even))\n",
    "print(\"All (Composites): \", all(composites))\n",
    "print(\"Length of Odd Set: \", len(odd))\n",
    "print(\"Length of Even Set: \", len(even))\n",
    "print(\"Length of Composites Set: \", len(composites))\n",
    "print(\"Sum of All Numbers in Odd Set: \", sum (odd))\n",
    "print(\"Sum of All Numbers in Even Set: \", sum(even)) \n",
    "print(\"Sum of All Numbers in Composites Set: \", sum(composites))"
   ]
  },
  {
   "cell_type": "markdown",
   "metadata": {},
   "source": [
    "### 3.\tWrite a Python program to check if a given value is present in a set or not."
   ]
  },
  {
   "cell_type": "code",
   "execution_count": 3,
   "metadata": {},
   "outputs": [
    {
     "name": "stdout",
     "output_type": "stream",
     "text": [
      "Chaudhary kanishk\n",
      "Enter the value to check:  3\n",
      "The value (value_to_check) is present in the set.\n",
      "Enter the value to check:  8\n",
      "The value 8 is not present in the set.\n"
     ]
    }
   ],
   "source": [
    "print(\"Chaudhary kanishk\")\n",
    "set = {1, 2, 3, 4, 5}\n",
    "for _ in range(2):\n",
    "    value_to_check = int(input(\"Enter the value to check: \"))\n",
    "    print(\"Enter the value to check: \", value_to_check)\n",
    "    if value_to_check in set:\n",
    "        print (f\"The value (value_to_check) is present in the set.\")\n",
    "    else:\n",
    "        print (f\"The value {value_to_check} is not present in the set.\")"
   ]
  },
  {
   "cell_type": "markdown",
   "metadata": {},
   "source": [
    "### 4.\tWAP to access values stored in a dict, add a new item in the dict, modify an item in the dict, remove an element from dict."
   ]
  },
  {
   "cell_type": "code",
   "execution_count": 4,
   "metadata": {},
   "outputs": [
    {
     "name": "stdout",
     "output_type": "stream",
     "text": [
      "Chaudhary kanishk\n",
      "Values stored in the dionary:\n",
      "a: 1\n",
      "b: 2\n",
      "c: 3\n",
      "\n",
      "After adding a new item to the dionary:\n",
      "a: 1\n",
      "b: 2\n",
      "c: 3\n",
      "d: 4\n",
      "\n",
      "After modifying an item in the dionary:\n",
      "a: 1\n",
      "b: 5\n",
      "c: 3\n",
      "d: 4\n",
      "\n",
      "After removing an element from the dionary:\n",
      "b: 5\n",
      "c: 3\n",
      "d: 4\n"
     ]
    }
   ],
   "source": [
    "print(\"Chaudhary kanishk\")\n",
    "\n",
    "d={'a': 1, 'b': 2, 'c': 3}\n",
    "print(\"Values stored in the dionary:\")\n",
    "for key, value in d.items(): \n",
    "    print(f\"{key}: {value}\")\n",
    "d['d'] = 4\n",
    "print(\"\\nAfter adding a new item to the dionary:\")\n",
    "for key, value in d.items():\n",
    "    print (f\"{key}: {value}\")\n",
    "d['b'] = 5\n",
    "print(\"\\nAfter modifying an item in the dionary:\")\n",
    "for key, value in d.items():\n",
    "    print(f\"{key}: {value}\")\n",
    "del d['a']\n",
    "print(\"\\nAfter removing an element from the dionary:\")\n",
    "for key, value in d.items():\n",
    "    print(f\"{key}: {value}\")"
   ]
  },
  {
   "cell_type": "markdown",
   "metadata": {},
   "source": [
    "### 5.\tWAP to access items in a dictionary using for loop."
   ]
  },
  {
   "cell_type": "code",
   "execution_count": 5,
   "metadata": {},
   "outputs": [
    {
     "name": "stdout",
     "output_type": "stream",
     "text": [
      "Chaudhary kanishk\n",
      "Key: Roll No  Student Name  Cource Name  \n",
      "Values: 101   ABC   B.Tech.   \n",
      "dionary: Roll No : 101 \t Student Name : ABC \t Cource Name : B.Tech. \t "
     ]
    }
   ],
   "source": [
    "print(\"Chaudhary kanishk\")\n",
    "\n",
    "d={'Roll No': '101', 'Student Name': 'ABC', 'Cource Name': 'B.Tech.'}  \n",
    "print(\"Key: \", end='')\n",
    "for key in d:\n",
    "    print (key, \" \", end='')\n",
    "print(\"\\nValues: \", end='')\n",
    "for val in d.values(): \n",
    "    print(val, \" \", end=' ')\n",
    "print(\"\\ndionary: \", end='')\n",
    "for key, val in d.items():\n",
    "    print (key,\":\", val, \"\\t\", end=' ')"
   ]
  },
  {
   "cell_type": "markdown",
   "metadata": {},
   "source": [
    "### 6.\tWAP to demonstrate the use of various in-built functions in dictionary."
   ]
  },
  {
   "cell_type": "code",
   "execution_count": 6,
   "metadata": {},
   "outputs": [
    {
     "name": "stdout",
     "output_type": "stream",
     "text": [
      "Chaudhary kanishk\n",
      "Number of students: 4\n",
      "Keys: dict_keys(['John', 'Alice', 'Bob', 'Emily'])\n",
      "Values: dict_values([85, 90, 75, 88])\n",
      "Items: dict_items([('John', 85), ('Alice', 90), ('Bob', 75), ('Emily', 88)])\n",
      "Score for John: 85\n",
      "Score for Lily: None\n",
      "Removed score for Bob: 75\n",
      "Dictionary after removing Bob: {'John': 85, 'Alice': 90, 'Emily': 88}\n",
      "Removed pair: ('Emily', 88)\n",
      "Dictionary after removing an arbitrary pair: {'John': 85, 'Alice': 90}\n",
      "Dictionary after clearing all items: {}\n"
     ]
    }
   ],
   "source": [
    "print(\"Chaudhary kanishk\")\n",
    "\n",
    "# Creating a dictionary\n",
    "student_scores = {'John': 85, 'Alice': 90, 'Bob': 75, 'Emily': 88}\n",
    "\n",
    "num_students = len(student_scores)\n",
    "print(\"Number of students:\", num_students)\n",
    "print(\"Keys:\", student_scores.keys())\n",
    "print(\"Values:\", student_scores.values())\n",
    "print(\"Items:\", student_scores.items())\n",
    "print(\"Score for John:\", student_scores.get('John'))\n",
    "print(\"Score for Lily:\", student_scores.get('Lily'))\n",
    "\n",
    "removed_score = student_scores.pop('Bob')\n",
    "print(\"Removed score for Bob:\", removed_score)\n",
    "print(\"Dictionary after removing Bob:\", student_scores)\n",
    "\n",
    "removed_pair = student_scores.popitem()\n",
    "print(\"Removed pair:\", removed_pair)\n",
    "print(\"Dictionary after removing an arbitrary pair:\", student_scores)\n",
    "\n",
    "student_scores.clear()\n",
    "print(\"Dictionary after clearing all items:\", student_scores)\n"
   ]
  },
  {
   "cell_type": "markdown",
   "metadata": {},
   "source": [
    "### 7.\tWAP that combines the lists to a dictionary using zip function."
   ]
  },
  {
   "cell_type": "code",
   "execution_count": 7,
   "metadata": {},
   "outputs": [
    {
     "name": "stdout",
     "output_type": "stream",
     "text": [
      "Chaudhary kanishk\n",
      "{'Java': 14, 'Python': 3, 'JavaScript': 6}\n"
     ]
    }
   ],
   "source": [
    "print(\"Chaudhary kanishk\")\n",
    "\n",
    "languages = ['Java', 'Python', 'JavaScript']\n",
    "versions = [14, 3, 6]\n",
    "result = dict(zip(languages, versions))\n",
    "print(result)"
   ]
  }
 ],
 "metadata": {
  "kernelspec": {
   "display_name": "Python 3",
   "language": "python",
   "name": "python3"
  },
  "language_info": {
   "codemirror_mode": {
    "name": "ipython",
    "version": 3
   },
   "file_extension": ".py",
   "mimetype": "text/x-python",
   "name": "python",
   "nbconvert_exporter": "python",
   "pygments_lexer": "ipython3",
   "version": "3.12.2"
  }
 },
 "nbformat": 4,
 "nbformat_minor": 2
}
