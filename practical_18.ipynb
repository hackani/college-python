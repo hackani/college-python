{
 "cells": [
  {
   "cell_type": "markdown",
   "metadata": {},
   "source": [
    "# <center>Practical 18</center>"
   ]
  },
  {
   "cell_type": "markdown",
   "metadata": {},
   "source": [
    "### 1.\tWAP to demonstrate open, read, write and close .txt and .csv files. In addition, perform the following tasks:\n",
    "<pre>\n",
    "    a.\tAdd a line “Hello World! I am using python” in existing .txt file.\n",
    "    b.\tAdd following rows and columns in existing .csv file.\n",
    "    \n",
    " Roll No.,  Name,   Department, Course\n",
    " 11021,     Mahek,  CSE,        Python\n",
    " 11022,     Heer,   ICT,        Mathematics\n",
    " 11023,     Pavan,  CIE,        Physics\n",
    " 11024,     Moksh,  ICT,        Data Structure\n",
    "</pre>"
   ]
  },
  {
   "cell_type": "code",
   "execution_count": 4,
   "metadata": {},
   "outputs": [
    {
     "name": "stdout",
     "output_type": "stream",
     "text": [
      "Chaudhary kanishk\n",
      "hello.txt created successfully.\n",
      "student.csv created successfully.\n"
     ]
    }
   ],
   "source": [
    "print(\"Chaudhary kanishk\")\n",
    "import csv\n",
    "\n",
    "with open(r\"hello.txt\", \"w\") as file:\n",
    "    file.write(\"Hello World! I am using python\")\n",
    "    print(\"hello.txt created successfully.\")\n",
    "\n",
    "data = [\n",
    "    ['Roll No.', 'Name', 'Department', 'Course'],\n",
    "    [11021, 'Mahek', 'CSE', 'Python'],\n",
    "    [11022, 'Heer', 'ICT', 'Mathematics'],\n",
    "    [11023, 'Pavan', 'CIE', 'Physics'],\n",
    "    [11024, 'Moksh', 'ICT', 'Data Structure']\n",
    "]\n",
    "with open(r'student.csv', 'w', newline='') as csvfile:\n",
    "    writer = csv.writer(csvfile)\n",
    "    writer.writerows(data)\n",
    "    print(\"student.csv created successfully.\")\n"
   ]
  },
  {
   "cell_type": "markdown",
   "metadata": {},
   "source": [
    "### <p>2.\tWAP for considering the following instructions:\n",
    "<pre style=\"text-wrap: wrap;\">\n",
    "a. Create a text file named \"input.txt\" and write some text data into it.\n",
    "b. Write a Python program that opens the \"input.txt\" file for reading, reads the contents of the file, and prints them to the console.\n",
    "c. Open another text file named \"output.txt\" for writing, and write the contents read from \"input.txt\" into \"output.txt\".\n",
    "d. Finally, close both files after reading from and writing to them.\n",
    "</pre>\n",
    "</p>"
   ]
  },
  {
   "cell_type": "code",
   "execution_count": 5,
   "metadata": {},
   "outputs": [
    {
     "name": "stdout",
     "output_type": "stream",
     "text": [
      "Chaudhary kanishk\n",
      "successfully wrote data into input.txt\n",
      "\n",
      "redirecting input.txt\n",
      "The sun dipped below the horizon, casting a warm orange glow across the sky.\n",
      "As the day faded into twilight, the chirping of crickets filled the air, signaling the onset of night.\n",
      "A gentle breeze rustled through the trees, carrying the scent of freshly cut grass.\n",
      "In the distance, a lone figure could be seen walking along the winding path, their silhouette outlined against the fading light.\n",
      "It was a peaceful evening, a moment of quiet reflection amidst the chaos of the world.\n",
      "\n",
      "successfully copied data from input.txt to output.txt\n"
     ]
    }
   ],
   "source": [
    "print(\"Chaudhary kanishk\")\n",
    "\n",
    "data = \"\"\"The sun dipped below the horizon, casting a warm orange glow across the sky.\n",
    "As the day faded into twilight, the chirping of crickets filled the air, signaling the onset of night.\n",
    "A gentle breeze rustled through the trees, carrying the scent of freshly cut grass.\n",
    "In the distance, a lone figure could be seen walking along the winding path, their silhouette outlined against the fading light.\n",
    "It was a peaceful evening, a moment of quiet reflection amidst the chaos of the world.\"\"\"\n",
    "with open(\"input.txt\", \"w\") as file1:\n",
    "    file1.write(data)\n",
    "    print(\"successfully wrote data into input.txt\")\n",
    "\n",
    "print(\"\\nredirecting input.txt\")\n",
    "with open(\"input.txt\", \"r\") as file1:\n",
    "    print(file1.read())\n",
    "\n",
    "with open(\"output.txt\", \"w\") as file2:\n",
    "    with open(\"input.txt\", \"r\") as file1:\n",
    "        file2.write(file1.read())\n",
    "        print(\"\\nsuccessfully copied data from input.txt to output.txt\")\n",
    "    "
   ]
  },
  {
   "cell_type": "markdown",
   "metadata": {},
   "source": [
    "### 3.\tWAP to demonstrate exceptions in python considering ZeroDivisionError, ValueError, AttributeError, NameError, ImportError, IOError.  "
   ]
  },
  {
   "cell_type": "code",
   "execution_count": 6,
   "metadata": {},
   "outputs": [
    {
     "name": "stdout",
     "output_type": "stream",
     "text": [
      "Chaudhary kanishk\n",
      "ZeroDivisionError: Cannot divide by zero\n",
      "ValueError: Invalid literal for int() with base 10\n",
      "AttributeError: 'str' object has no attribute 'append'\n",
      "NameError: Name 'printf' is not defined\n",
      "ImportError: No module named 'non_existing_module'\n",
      "IOError: No such file or directory\n"
     ]
    }
   ],
   "source": [
    "print(\"Chaudhary kanishk\")\n",
    "\n",
    "try:\n",
    "    result = 10 / 0\n",
    "except ZeroDivisionError:\n",
    "    print(\"ZeroDivisionError: Cannot divide by zero\")\n",
    "\n",
    "try:\n",
    "    num = int(\"abc\")\n",
    "except ValueError:\n",
    "    print(\"ValueError: Invalid literal for int() with base 10\")\n",
    "\n",
    "try:\n",
    "    x = \"hello\"\n",
    "    x.append(\"world\")\n",
    "except AttributeError:\n",
    "    print(\"AttributeError: 'str' object has no attribute 'append'\")\n",
    "\n",
    "try:\n",
    "    printf(\"hello\")\n",
    "except NameError:\n",
    "    print(\"NameError: Name 'printf' is not defined\")\n",
    "\n",
    "try:\n",
    "    import non_existing_module\n",
    "except ImportError:\n",
    "    print(\"ImportError: No module named 'non_existing_module'\")\n",
    "\n",
    "try:\n",
    "    with open(\"non_existing_file.txt\", \"r\") as file:\n",
    "        content = file.read()\n",
    "except IOError:\n",
    "    print(\"IOError: No such file or directory\")\n",
    "except FileNotFoundError:\n",
    "    print(\"FileNotFoundError: No such file or directory\")\n"
   ]
  },
  {
   "cell_type": "markdown",
   "metadata": {},
   "source": [
    "### <p>4.\tWAP that asks the user to input two numbers and following information:\n",
    "<pre style=\"text-wrap: wrap;\">\n",
    "a. Try to convert the user inputs to integers and perform division operation (num1 / num2).\n",
    "b. Handle any possible exceptions that may occur during the conversion or division operation.\n",
    "c. Print appropriate error messages for each type of exception (e.g., ValueError, ZeroDivisionError), if it occurs.\n",
    "d. Ensure that the program continues to execute even if an exception occurs.\n",
    "</pre>\n",
    "</p>"
   ]
  },
  {
   "cell_type": "code",
   "execution_count": 7,
   "metadata": {},
   "outputs": [
    {
     "name": "stdout",
     "output_type": "stream",
     "text": [
      "Chaudhary kanishk\n",
      "Enter the first number:  1\n",
      "Enter the secound number:  2\n",
      "Result of division: 0.5\n"
     ]
    }
   ],
   "source": [
    "print(\"Chaudhary kanishk\")\n",
    "while True:\n",
    "    try:\n",
    "        num1 = input(\"Enter the first number: \")\n",
    "        num2 = input(\"Enter the second number: \")\n",
    "        print(\"Enter the first number: \", num1)\n",
    "        print(\"Enter the secound number: \", num2)\n",
    "        \n",
    "        num1 = int(num1)\n",
    "        num2 = int(num2)\n",
    "\n",
    "        result = num1 / num2\n",
    "        print(\"Result of division:\", result)\n",
    "        \n",
    "    except ValueError:\n",
    "        print(\"ValueError: Please enter valid integers.\")\n",
    "    except ZeroDivisionError:\n",
    "        print(\"ZeroDivisionError: Cannot divide by zero.\")\n",
    "    except Exception as e:\n",
    "        print(\"An unexpected error occurred:\", e)\n",
    "    choice = input(\"Do you want to continue? (yes/no): \")\n",
    "    if choice.lower() != 'yes':\n",
    "        break\n"
   ]
  },
  {
   "cell_type": "markdown",
   "metadata": {},
   "source": [
    "### 5.\tWAP to demonstrate pickling process without file and with file using pickledump() and pickleload() functions."
   ]
  },
  {
   "cell_type": "code",
   "execution_count": 10,
   "metadata": {},
   "outputs": [
    {
     "name": "stdout",
     "output_type": "stream",
     "text": [
      "Chaudhary kanishk\n",
      "Pickled data without file: b'\\x80\\x04\\x95-\\x00\\x00\\x00\\x00\\x00\\x00\\x00}\\x94(\\x8c\\x04name\\x94\\x8c\\x04John\\x94\\x8c\\x03age\\x94K\\x1e\\x8c\\x04city\\x94\\x8c\\x08New York\\x94u.'\n",
      "Unpickled data without file: {'name': 'John', 'age': 30, 'city': 'New York'}\n",
      "Loaded data with file: {'name': 'Alice', 'age': 25, 'city': 'Los Angeles'}\n"
     ]
    }
   ],
   "source": [
    "print(\"Chaudhary kanishk\")\n",
    "import pickle\n",
    "\n",
    "data = {'name': 'John', 'age': 30, 'city': 'New York'}\n",
    "\n",
    "pickled_data = pickle.dumps(data)\n",
    "\n",
    "unpickled_data = pickle.loads(pickled_data)\n",
    "\n",
    "print(\"Pickled data without file:\", pickled_data)\n",
    "print(\"Unpickled data without file:\", unpickled_data)\n",
    "\n",
    "data = {'name': 'Alice', 'age': 25, 'city': 'Los Angeles'}\n",
    "\n",
    "with open('data.pickle', 'wb') as file:\n",
    "    pickle.dump(data, file)\n",
    "\n",
    "with open('data.pickle', 'rb') as file:\n",
    "    loaded_data = pickle.load(file)\n",
    "\n",
    "print(\"Loaded data with file:\", loaded_data)\n"
   ]
  },
  {
   "cell_type": "markdown",
   "metadata": {},
   "source": [
    "### 6.\tWrite a Python program that defines a dictionary containing some data (e.g., student information, employee records, etc.).\n",
    "<pre style=\"text-wrap: wrap;\">\n",
    "a. Use the pickle module to serialize (i.e., convert) the dictionary into a binary file.\n",
    "b. Write a function that reads the serialized binary file using pickle and returns the deserialized (i.e., converted back to its original form) dictionary.\n",
    "c. Test your program by serializing the dictionary, writing it to a file, reading the file using the function, and printing the deserialized dictionary.\n",
    "</pre>"
   ]
  },
  {
   "cell_type": "code",
   "execution_count": 12,
   "metadata": {},
   "outputs": [
    {
     "name": "stdout",
     "output_type": "stream",
     "text": [
      "Chaudhary kanishk\n",
      "Dictionary serialized and saved to student_data.pickle\n",
      "Deserialized dictionary:\n",
      "{'name': 'John Doe', 'age': 20, 'grade': 'A', 'subjects': ['Math', 'Science', 'English']}\n"
     ]
    }
   ],
   "source": [
    "print(\"Chaudhary kanishk\")\n",
    "\n",
    "def serialize_dictionary(data, filename):\n",
    "    with open(filename, 'wb') as file:\n",
    "        pickle.dump(data, file)\n",
    "    print(f\"Dictionary serialized and saved to {filename}\")\n",
    "\n",
    "def deserialize_dictionary(filename):\n",
    "    with open(filename, 'rb') as file:\n",
    "        deserialized_data = pickle.load(file)\n",
    "    return deserialized_data\n",
    "    \n",
    "student_data = {\n",
    "    'name': 'John Doe',\n",
    "    'age': 20,\n",
    "    'grade': 'A',\n",
    "    'subjects': ['Math', 'Science', 'English']\n",
    "}\n",
    "\n",
    "serialize_dictionary(student_data, 'student_data.pickle')\n",
    "deserialized_student_data = deserialize_dictionary('student_data.pickle')\n",
    "\n",
    "print(\"Deserialized dictionary:\")\n",
    "print(deserialized_student_data)"
   ]
  }
 ],
 "metadata": {
  "kernelspec": {
   "display_name": "Python 3",
   "language": "python",
   "name": "python3"
  },
  "language_info": {
   "codemirror_mode": {
    "name": "ipython",
    "version": 3
   },
   "file_extension": ".py",
   "mimetype": "text/x-python",
   "name": "python",
   "nbconvert_exporter": "python",
   "pygments_lexer": "ipython3",
   "version": "3.12.2"
  }
 },
 "nbformat": 4,
 "nbformat_minor": 2
}
