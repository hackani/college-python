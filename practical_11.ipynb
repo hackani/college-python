{
 "cells": [
  {
   "cell_type": "markdown",
   "metadata": {},
   "source": [
    "# <center>Practical 11</center>"
   ]
  },
  {
   "cell_type": "markdown",
   "metadata": {},
   "source": [
    "### WAP to check if a string is a palindrome or not"
   ]
  },
  {
   "cell_type": "code",
   "execution_count": 1,
   "metadata": {},
   "outputs": [
    {
     "name": "stdout",
     "output_type": "stream",
     "text": [
      "Chaudhary kanishk\n",
      "Enter a string: hello\n",
      "hello is not a palindrome\n",
      "Enter a string: kanishk\n",
      "kanishk is not a palindrome\n"
     ]
    }
   ],
   "source": [
    "print(\"Chaudhary kanishk\")\n",
    "def is_palindrome(str):\n",
    "    return (str == str[::-1])\n",
    "for _ in range(2):\n",
    "    str = input(\"Enter a String: \")\n",
    "    print(\"Enter a string: \" + str)\n",
    "    if is_palindrome(str):\n",
    "        print(str+ \" is a palindrome\")\n",
    "    else:\n",
    "        print(str + \" is not a palindrome\")\n",
    "                "
   ]
  },
  {
   "cell_type": "markdown",
   "metadata": {},
   "source": [
    "### WAP that accepts a string from a user and displays the same string after removing vowels from it"
   ]
  },
  {
   "cell_type": "code",
   "execution_count": 2,
   "metadata": {},
   "outputs": [
    {
     "name": "stdout",
     "output_type": "stream",
     "text": [
      "Chaudhary kanishk\n",
      "Enter a string: kanishk\n",
      "After removing vowels:  knshk\n"
     ]
    }
   ],
   "source": [
    "print(\"Chaudhary kanishk\")\n",
    "\n",
    "str = input(\"Enter a String: \")\n",
    "print(\"Enter a string: \" + str)\n",
    "\n",
    "def remove_vowels(str):\n",
    "    temp = \"\"\n",
    "    for letter in str:\n",
    "        if letter.lower() in ['a', 'e', 'i', 'o', 'u']:\n",
    "            pass\n",
    "        else:\n",
    "            temp = temp + letter\n",
    "    return temp\n",
    "\n",
    "print(\"After removing vowels: \", remove_vowels(str))"
   ]
  },
  {
   "cell_type": "markdown",
   "metadata": {},
   "source": [
    "### WAP to find weather a given character is in a string or not. in case it is present, print the index at which it is present. do not use built in function to search the character."
   ]
  },
  {
   "cell_type": "code",
   "execution_count": 3,
   "metadata": {},
   "outputs": [
    {
     "name": "stdout",
     "output_type": "stream",
     "text": [
      "Chaudhary kanishk\n",
      "Enter a string: kanishk\n",
      "Enter a character to find: 2\n",
      "2 is not in kanishk\n"
     ]
    }
   ],
   "source": [
    "print(\"Chaudhary kanishk\")\n",
    "str = input()\n",
    "print(\"Enter a string: \" + str)\n",
    "char = input()\n",
    "print(\"Enter a character to find: \" + char)\n",
    "\n",
    "def find(char, str):\n",
    "    for i in range(len(str)):\n",
    "        if str[i] == char:\n",
    "            return i\n",
    "    return -1\n",
    "\n",
    "if (i := find(char, str)) != -1:\n",
    "    print(char + \" is at\", (i+1) ,\" position in \" + str)\n",
    "else:\n",
    "    print(char + \" is not in \" + str)"
   ]
  },
  {
   "cell_type": "markdown",
   "metadata": {},
   "source": [
    "### WAP to count the number of occurrences of each word in a sentence"
   ]
  },
  {
   "cell_type": "code",
   "execution_count": 4,
   "metadata": {},
   "outputs": [
    {
     "name": "stdout",
     "output_type": "stream",
     "text": [
      "Chaudhary kanishk\n",
      "Enter a string: kanishk\n",
      "There are 1 words in the kanishk\n"
     ]
    }
   ],
   "source": [
    "print(\"Chaudhary kanishk\")\n",
    "\n",
    "def count_words(str):\n",
    "    return (len(str.split(\" \")))\n",
    "\n",
    "str = input()\n",
    "print(\"Enter a string: \" + str)\n",
    "\n",
    "print(\"There are\", count_words(str) ,\"words in the\", str)"
   ]
  },
  {
   "cell_type": "markdown",
   "metadata": {},
   "source": [
    "### WAP to append a string in another string without using += operator"
   ]
  },
  {
   "cell_type": "code",
   "execution_count": 5,
   "metadata": {},
   "outputs": [
    {
     "name": "stdout",
     "output_type": "stream",
     "text": [
      "Chaudhary kanishk\n",
      "First string: Hello, \n",
      "Second string: World!\n",
      "Hello, World!\n"
     ]
    }
   ],
   "source": [
    "print(\"Chaudhary kanishk\")\n",
    "s1 = \"Hello, \"\n",
    "s2 = \"World!\"\n",
    "\n",
    "print(\"First string: \" + s1)\n",
    "print(\"Second string: \" + s2)\n",
    "\n",
    "for letter in s2:\n",
    "    s1 = s1 + letter\n",
    "\n",
    "print(s1)"
   ]
  },
  {
   "cell_type": "markdown",
   "metadata": {},
   "source": [
    "### WAP write a function to convert a string to all uppercase if it contains at least 2 uppercase charecters in the first 4 charecters"
   ]
  },
  {
   "cell_type": "code",
   "execution_count": 6,
   "metadata": {},
   "outputs": [
    {
     "name": "stdout",
     "output_type": "stream",
     "text": [
      "kanishk\n",
      "Enter a str: hello \n",
      "converted str: hello \n"
     ]
    }
   ],
   "source": [
    "print(\"kanishk\")\n",
    "def convert(str):\n",
    "    count = 0\n",
    "    for i in range(4):\n",
    "        if str[i].isupper():\n",
    "            count += 1\n",
    "    \n",
    "    if count>= 2:\n",
    "        return str.upper()\n",
    "    else:\n",
    "        return str\n",
    "\n",
    "\n",
    "str = input()\n",
    "print(\"Enter a str: \" + str)    \n",
    "print(\"converted str: \" + convert(str))"
   ]
  },
  {
   "cell_type": "markdown",
   "metadata": {},
   "source": [
    "### WAP to remove existing indentation from all the lines in a given text"
   ]
  },
  {
   "cell_type": "code",
   "execution_count": 7,
   "metadata": {},
   "outputs": [
    {
     "name": "stdout",
     "output_type": "stream",
     "text": [
      "kanishk\n",
      "\n",
      "This is an example text with\n",
      "some existing indentation.\n",
      "It may have different levels\n",
      "of indentation.\n",
      "\n"
     ]
    }
   ],
   "source": [
    "print(\"kanishk\")\n",
    "def remove_indentation(text):\n",
    "    lines = text.split('\\n')\n",
    "    \"\"\"lines = [line.lstrip() for line in lines]\"\"\"\n",
    "    for i in range(len(lines)):\n",
    "        lines[i] = lines[i].lstrip()\n",
    "        \n",
    "    return '\\n'.join(lines)\n",
    "\n",
    "text = \"\"\"\n",
    "                 This is an example text with\n",
    "    some existing indentation.\n",
    "        It may have different levels\n",
    "        of indentation.\n",
    "    \"\"\"\n",
    "    \n",
    "print(remove_indentation(text))\n"
   ]
  },
  {
   "cell_type": "markdown",
   "metadata": {},
   "source": [
    "### WAP to demonstrate the use of various in built functions such as count, find, isalpha, isnum, isdigite, islower, isupper, upper, lower, strip, replace, swapcase, join, etc."
   ]
  },
  {
   "cell_type": "code",
   "execution_count": 8,
   "metadata": {},
   "outputs": [
    {
     "name": "stdout",
     "output_type": "stream",
     "text": [
      "kanishk\n",
      "Count of 'a': 1\n",
      "Index of 'hello': -1\n",
      "Is alpha? False\n",
      "Is numeric? False\n",
      "Is digit? False\n",
      "Is lower? False\n",
      "Is upper? False\n",
      "Uppercase: HELLO, WORLD! HOW ARE YOU DOING?\n",
      "Lowercase: hello, world! how are you doing?\n",
      "Stripped: 'Hello, world! How are you doing?'\n",
      "Replaced: 'Hello, universe! How are you doing?'\n",
      "Swapcased: 'hELLO, WORLD! hOW ARE YOU DOING?'\n",
      "Joined: 'This is a test'\n"
     ]
    }
   ],
   "source": [
    "print(\"kanishk\")\n",
    "def string_operations(input_string):\n",
    "    count_a = input_string.count('a')\n",
    "    print(f\"Count of 'a': {count_a}\")\n",
    "\n",
    "    index_of_hello = input_string.find('hello')\n",
    "    print(f\"Index of 'hello': {index_of_hello}\")\n",
    "\n",
    "    is_alpha = input_string.isalpha()\n",
    "    print(f\"Is alpha? {is_alpha}\")\n",
    "\n",
    "    is_numeric = input_string.isnumeric()\n",
    "    print(f\"Is numeric? {is_numeric}\")\n",
    "\n",
    "    is_digit = input_string.isdigit()\n",
    "    print(f\"Is digit? {is_digit}\")\n",
    "\n",
    "    is_lower = input_string.islower()\n",
    "    print(f\"Is lower? {is_lower}\")\n",
    "\n",
    "    is_upper = input_string.isupper()\n",
    "    print(f\"Is upper? {is_upper}\")\n",
    "\n",
    "    uppercase_string = input_string.upper()\n",
    "    print(f\"Uppercase: {uppercase_string}\")\n",
    "\n",
    "    lowercase_string = input_string.lower()\n",
    "    print(f\"Lowercase: {lowercase_string}\")\n",
    "\n",
    "    stripped_string = input_string.strip()\n",
    "    print(f\"Stripped: '{stripped_string}'\")\n",
    "\n",
    "    replaced_string = input_string.replace('world', 'universe')\n",
    "    print(f\"Replaced: '{replaced_string}'\")\n",
    "\n",
    "    swapcased_string = input_string.swapcase()\n",
    "    print(f\"Swapcased: '{swapcased_string}'\")\n",
    "\n",
    "    words = ['This', 'is', 'a', 'test']\n",
    "    joined_string = ' '.join(words)\n",
    "    print(f\"Joined: '{joined_string}'\")\n",
    "\n",
    "input_text = \"Hello, world! How are you doing?\"\n",
    "string_operations(input_text)\n"
   ]
  },
  {
   "cell_type": "code",
   "execution_count": null,
   "metadata": {},
   "outputs": [],
   "source": []
  }
 ],
 "metadata": {
  "kernelspec": {
   "display_name": "Python 3",
   "language": "python",
   "name": "python3"
  },
  "language_info": {
   "codemirror_mode": {
    "name": "ipython",
    "version": 3
   },
   "file_extension": ".py",
   "mimetype": "text/x-python",
   "name": "python",
   "nbconvert_exporter": "python",
   "pygments_lexer": "ipython3",
   "version": "3.12.2"
  }
 },
 "nbformat": 4,
 "nbformat_minor": 2
}
