{
 "cells": [
  {
   "cell_type": "markdown",
   "metadata": {},
   "source": [
    "# <center>Practical 17</center>"
   ]
  },
  {
   "cell_type": "markdown",
   "metadata": {},
   "source": [
    "# 1.\tWAP that combines the lists to a dictionary using zip function."
   ]
  },
  {
   "cell_type": "code",
   "execution_count": 1,
   "metadata": {},
   "outputs": [
    {
     "name": "stdout",
     "output_type": "stream",
     "text": [
      "Chaudhary kanishk\n",
      "Dictionary with keys as numbers between 1 and 15 and their squares as values:\n",
      "{1: 1, 2: 4, 3: 9, 4: 16, 5: 25, 6: 36, 7: 49, 8: 64, 9: 81, 10: 100, 11: 121, 12: 144, 13: 169, 14: 196, 15: 225}\n"
     ]
    }
   ],
   "source": [
    "print(\"Chaudhary kanishk\")\n",
    "\n",
    "square_dict = {}\n",
    "for i in range(1, 16):\n",
    "    square_dict[i] = i * i\n",
    "print(\"Dictionary with keys as numbers between 1 and 15 and their squares as values:\")\n",
    "print(square_dict)"
   ]
  },
  {
   "cell_type": "markdown",
   "metadata": {},
   "source": [
    "# 2.\tWAP that creates a dictionary of radius of a circle and its circumference.\n"
   ]
  },
  {
   "cell_type": "code",
   "execution_count": 2,
   "metadata": {},
   "outputs": [
    {
     "name": "stdout",
     "output_type": "stream",
     "text": [
      "Chaudhary kanishk\n",
      "Dictionary of radius of a circle and its circumference:\n",
      "{1: 6.28, 2: 12.56, 3: 18.84, 4: 25.12, 5: 31.400000000000002, 6: 37.68, 7: 43.96, 8: 50.24, 9: 56.52, 10: 62.800000000000004}\n"
     ]
    }
   ],
   "source": [
    "print(\"Chaudhary kanishk\")\n",
    "dict = {}\n",
    "for radius in range(1, 11):\n",
    "    circumference = 2 * 3.14 * radius\n",
    "    dict[radius] = circumference\n",
    "print(\"Dictionary of radius of a circle and its circumference:\")\n",
    "print(dict)"
   ]
  },
  {
   "cell_type": "markdown",
   "metadata": {},
   "source": [
    "# 3.\tWAP that creates a dictionary of cubes of odd numbers in the range 1 to 10 using dictionary comprehensions."
   ]
  },
  {
   "cell_type": "code",
   "execution_count": 3,
   "metadata": {},
   "outputs": [
    {
     "name": "stdout",
     "output_type": "stream",
     "text": [
      "Chaudhary kanishk\n",
      "Dictionary of cubes of odd numbers in the range 1 to 10:\n",
      "{1: 1, 3: 27, 5: 125, 7: 343, 9: 729}\n"
     ]
    }
   ],
   "source": [
    "print(\"Chaudhary kanishk\")\n",
    "dict = {x: x**3 for x in range(1, 11) if x % 2 != 0}\n",
    "print(\"Dictionary of cubes of odd numbers in the range 1 to 10:\")\n",
    "print(dict)"
   ]
  },
  {
   "cell_type": "markdown",
   "metadata": {},
   "source": [
    "# 4.\tWAP that has dictionary of names of students and a list of their marks in 4 subjects. Create another dictionary from this dict that has names of the students and their total marks. Find out the topper and his/her score."
   ]
  },
  {
   "cell_type": "code",
   "execution_count": 4,
   "metadata": {},
   "outputs": [
    {
     "name": "stdout",
     "output_type": "stream",
     "text": [
      "Chaudhary kanishk\n",
      "Dictionary of total marks:\n",
      "{'A': 304, 'B': 319, 'C': 313, 'D': 357}\n",
      "\n",
      "The topper is D with a score of 357 marks.\n"
     ]
    }
   ],
   "source": [
    "print(\"Chaudhary kanishk\")\n",
    "student_marks = {\n",
    "    'A': [95, 80, 77, 52],\n",
    "    'B': [88, 75, 90, 66],\n",
    "    'C': [82, 77, 80, 74],\n",
    "    'D': [90, 92, 95, 80]\n",
    "}\n",
    "total_marks_dict = {}\n",
    "for student, marks in student_marks.items(): \n",
    "    total_marks = sum(marks) \n",
    "    total_marks_dict [student] = total_marks\n",
    "print(\"Dictionary of total marks:\") \n",
    "print(total_marks_dict)\n",
    "topper = max(total_marks_dict, key=total_marks_dict.get) \n",
    "top_score = total_marks_dict[topper]\n",
    "print(f\"\\nThe topper is {topper} with a score of {top_score} marks.\")"
   ]
  },
  {
   "cell_type": "markdown",
   "metadata": {},
   "source": [
    "# 5.\tWAP that prints histogram of frequencies of characters occurring in a message."
   ]
  },
  {
   "cell_type": "code",
   "execution_count": 5,
   "metadata": {},
   "outputs": [
    {
     "name": "stdout",
     "output_type": "stream",
     "text": [
      "Chaudhary kanishk\n",
      "Histogram of character frequencies:\n",
      "A: #\n",
      "d: #\n",
      "a: #\n",
      "n: ##\n",
      "i: ###\n",
      " : #\n",
      "U: #\n",
      "v: #\n",
      "e: #\n",
      "r: #\n",
      "s: #\n",
      "t: #\n",
      "y: #\n"
     ]
    }
   ],
   "source": [
    "print(\"Chaudhary kanishk\")\n",
    "message = \"Adani University\"\n",
    "frequency_dict = {}\n",
    "for char in message:\n",
    "    if char in frequency_dict:\n",
    "        frequency_dict[char] += 1\n",
    "    else:\n",
    "        frequency_dict[char] = 1    \n",
    "print(\"Histogram of character frequencies:\")\n",
    "for char, frequency in frequency_dict.items(): \n",
    "    print(f\"{char}: {'#' * frequency}\")"
   ]
  },
  {
   "cell_type": "markdown",
   "metadata": {},
   "source": [
    "# 6.\tWAP that displays information about an employee. Use nested dictionary to do the task. Also determine how to access an element in a nested dictionary and how to add an element in nested dictionary."
   ]
  },
  {
   "cell_type": "code",
   "execution_count": 6,
   "metadata": {},
   "outputs": [
    {
     "name": "stdout",
     "output_type": "stream",
     "text": [
      "Chaudhary kanishk\n",
      "Employee Information:\n",
      "Employee Name: ABC\n",
      "Age: 30\n",
      "Department: ICT\n",
      "Contact Details:\n",
      " Email-ID: abc.aa@example.com\n",
      " Phone No.: 123-456-7890\n",
      "\n",
      "Accessing an element in the nested dictionary:\n",
      "Employee's email: abc.aa@example.com\n",
      "\n",
      "Adding an element to the nested dictionary:\n",
      "Employee's Address:\n",
      " City: Ahmedabad\n",
      " ZIP: 00001\n"
     ]
    }
   ],
   "source": [
    "print(\"Chaudhary kanishk\")\n",
    "employee_info = {\n",
    "    'Employee Name': 'ABC',\n",
    "    'Age': 30,\n",
    "    'Department': 'ICT',\n",
    "    'Contact Details': {\n",
    "        'Email-ID': 'abc.aa@example.com',\n",
    "        'Phone No.': '123-456-7890'\n",
    "        }\n",
    "}\n",
    "print(\"Employee Information:\")\n",
    "print(\"Employee Name:\", employee_info['Employee Name'])\n",
    "print(\"Age:\", employee_info['Age'])\n",
    "print(\"Department:\", employee_info['Department'])\n",
    "print(\"Contact Details:\")\n",
    "print(\" Email-ID:\", employee_info['Contact Details'] ['Email-ID'])\n",
    "print(\" Phone No.:\", employee_info['Contact Details'] ['Phone No.'])\n",
    "print(\"\\nAccessing an element in the nested dictionary:\")\n",
    "print(\"Employee's email:\", employee_info['Contact Details'] ['Email-ID'])\n",
    "# Adding an element to the nested dictionary\n",
    "employee_info['Address'] = {'city': 'Ahmedabad', 'zip': '00001'}\n",
    "print(\"\\nAdding an element to the nested dictionary:\")\n",
    "print(\"Employee's Address:\")\n",
    "print(\" City:\", employee_info['Address']['city'])\n",
    "print(\" ZIP:\", employee_info['Address']['zip'])"
   ]
  },
  {
   "cell_type": "markdown",
   "metadata": {},
   "source": [
    "# 7.\tWrite a program that keeps name and phone numbers in a dictionary as key-value pairs. The program should display a menu that lets the user search a person’s phone, add a new name and phone number, change an existing phone number, and delete an existing name and phone number."
   ]
  },
  {
   "cell_type": "code",
   "execution_count": 7,
   "metadata": {},
   "outputs": [
    {
     "name": "stdout",
     "output_type": "stream",
     "text": [
      "Chaudhary kanishk\n",
      "\n",
      "Phone Book Menu:\n",
      "1. Search a person's phone number\n",
      "2. Add a new name and phone number\n",
      "3. Change an existing phone number\n",
      "4. Delete an existing name and phone number\n",
      "5. Exit\n",
      "\n",
      "Enter your choice (1-5):  2\n",
      "Enter the new name:  kanishk\n",
      "Enter the phone number:  1234567890\n",
      "Added kanishk with phone number 1234567890 to the phone book.\n",
      "\n",
      "Phone Book Menu:\n",
      "1. Search a person's phone number\n",
      "2. Add a new name and phone number\n",
      "3. Change an existing phone number\n",
      "4. Delete an existing name and phone number\n",
      "5. Exit\n",
      "\n",
      "Enter your choice (1-5):  1\n",
      "Enter the name to search:  kanishk\n",
      "Phone number of kanishk: 1234567890\n",
      "\n",
      "Phone Book Menu:\n",
      "1. Search a person's phone number\n",
      "2. Add a new name and phone number\n",
      "3. Change an existing phone number\n",
      "4. Delete an existing name and phone number\n",
      "5. Exit\n",
      "\n",
      "Enter your choice (1-5):  5\n",
      "Exiting the phone book program.\n"
     ]
    }
   ],
   "source": [
    "print(\"Chaudhary kanishk\")\n",
    "phone_book = {}\n",
    "menu =\"\"\"\n",
    "Phone Book Menu:\n",
    "1. Search a person's phone number\n",
    "2. Add a new name and phone number\n",
    "3. Change an existing phone number\n",
    "4. Delete an existing name and phone number\n",
    "5. Exit\n",
    "\"\"\"\n",
    "\n",
    "while True:\n",
    "    print(menu)\n",
    "    choice = input(\"Enter your choice (1-5): \")\n",
    "    print(\"Enter your choice (1-5): \", choice)\n",
    "    if choice == '1':\n",
    "        name = input(\"Enter the name to search: \")\n",
    "        print(\"Enter the name to search: \", name)\n",
    "        if name in phone_book:\n",
    "            print (f\"Phone number of {name}: {phone_book [name]}\")\n",
    "        else:\n",
    "            print (f\" {name} not found in the phone book.\")\n",
    "    elif choice == '2':\n",
    "        name = input(\"Enter the new name: \")\n",
    "        print(\"Enter the new name: \", name)\n",
    "        phone = input(\"Enter the phone number: \")\n",
    "        print(\"Enter the phone number: \", phone)\n",
    "        phone_book [name] = phone\n",
    "        print(f\"Added {name} with phone number {phone} to the phone book.\")\n",
    "    elif choice == '3':\n",
    "        name = input(\"Enter the name whose phone number you want to change: \")\n",
    "        print(\"Enter the name whose phone number you want to change: \", name)\n",
    "        if name in phone_book:\n",
    "            new_phone = input(\"Enter the new phone number: \")\n",
    "            print(\"Enter the new phone number: \", new_phone)\n",
    "            phone_book [name] = new_phone\n",
    "            print(f\"Changed phone number of {name} to {new_phone}.\")\n",
    "        else:\n",
    "            print(f\"{name} not found in the phone book.\")\n",
    "    elif choice == '4':\n",
    "        name = input(\"Enter the name to delete: \")\n",
    "        print(\"Enter the name to delete: \", name) \n",
    "        if name in phone_book:\n",
    "            del phone_book[name]\n",
    "            print(f\"Deleted {name} from the phone book.\")\n",
    "        else:\n",
    "            print(f\"{name} not found in the phone book.\")\n",
    "    elif choice == '5':\n",
    "        print(\"Exiting the phone book program.\")\n",
    "        break\n",
    "    else:\n",
    "        print(\"Invalid choice. Please enter a number between 1 and 5.\")"
   ]
  }
 ],
 "metadata": {
  "kernelspec": {
   "display_name": "Python 3",
   "language": "python",
   "name": "python3"
  },
  "language_info": {
   "codemirror_mode": {
    "name": "ipython",
    "version": 3
   },
   "file_extension": ".py",
   "mimetype": "text/x-python",
   "name": "python",
   "nbconvert_exporter": "python",
   "pygments_lexer": "ipython3",
   "version": "3.12.2"
  }
 },
 "nbformat": 4,
 "nbformat_minor": 2
}
