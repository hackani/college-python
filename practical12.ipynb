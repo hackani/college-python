{
 "cells": [
  {
   "cell_type": "markdown",
   "metadata": {},
   "source": [
    "# <center>Practical 12</center>"
   ]
  },
  {
   "cell_type": "markdown",
   "metadata": {},
   "source": [
    "### WAP to make a simple calculator"
   ]
  },
  {
   "cell_type": "code",
   "execution_count": 1,
   "metadata": {},
   "outputs": [
    {
     "name": "stdout",
     "output_type": "stream",
     "text": [
      "Chaudhary kanishk\n",
      "Enter a number:  2.0\n",
      "Enter a operator:  *\n",
      "Enter a number:  4.0\n",
      "2.0 * 4.0 = 8.0\n"
     ]
    }
   ],
   "source": [
    "print(\"Chaudhary kanishk\")\n",
    "\n",
    "def get_input():\n",
    "    while True:\n",
    "        try:\n",
    "            x = float(input(\"Enter a number: \"))\n",
    "            return x\n",
    "        except ValueError:\n",
    "            continue\n",
    "\n",
    "def get_operator():\n",
    "    while True:\n",
    "        o = input(\"Enter a Operator: \")\n",
    "        if o in [\"+\", \"-\", \"*\", \"/\", \"%\"]:\n",
    "            return o\n",
    "        else:\n",
    "            continue\n",
    " \n",
    "num1 = get_input()\n",
    "num2 = get_input()\n",
    "operator = get_operator()\n",
    "print(\"Enter a number: \", num1)\n",
    "print(\"Enter a operator: \", operator)\n",
    "print(\"Enter a number: \", num2)\n",
    "    \n",
    "if operator == \"+\":\n",
    "    print(f\"{num1} {operator} {num2} = {num1 + num2}\")\n",
    "elif operator == \"-\":\n",
    "    print(f\"{num1} {operator} {num2} = {num1 - num2}\")\n",
    "elif operator == \"/\":\n",
    "    print(f\"{num1} {operator} {num2} = {num1 / num2}\")\n",
    "elif operator == \"*\":\n",
    "    print(f\"{num1} {operator} {num2} = {num1 * num2}\")\n",
    "elif operator == \"%\":\n",
    "    print(f\"{num1} {operator} {num2} = {num1 % num2}\")"
   ]
  }
 ],
 "metadata": {
  "kernelspec": {
   "display_name": "base",
   "language": "python",
   "name": "python3"
  },
  "language_info": {
   "codemirror_mode": {
    "name": "ipython",
    "version": 3
   },
   "file_extension": ".py",
   "mimetype": "text/x-python",
   "name": "python",
   "nbconvert_exporter": "python",
   "pygments_lexer": "ipython3",
   "version": "3.12.2"
  }
 },
 "nbformat": 4,
 "nbformat_minor": 2
}
