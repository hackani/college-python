{
 "cells": [
  {
   "cell_type": "markdown",
   "metadata": {},
   "source": [
    "# <center>Practical 13</center>"
   ]
  },
  {
   "cell_type": "markdown",
   "metadata": {},
   "source": [
    "### WAP to for guess a number game"
   ]
  },
  {
   "cell_type": "code",
   "execution_count": 1,
   "metadata": {},
   "outputs": [
    {
     "name": "stdout",
     "output_type": "stream",
     "text": [
      "Chaudhary kanishk\n",
      "you have attempts 5\n",
      "Enter your guess: 4\n",
      "Wrong\n",
      "Enter your guess: 3\n",
      "Wrong\n",
      "Enter your guess: 2\n",
      "Wrong\n",
      "Enter your guess: 0\n",
      "Wrong\n",
      "Enter your guess: 17\n",
      "Wrong\n",
      "you ran out of guesses\n"
     ]
    }
   ],
   "source": [
    "import random\n",
    "print(\"Chaudhary kanishk\")\n",
    "\n",
    "snum = random.randint(1, 10)\n",
    "\n",
    "attempts = 5\n",
    "print(f\"you have attempts {attempts}\")\n",
    "\n",
    "for i in range(attempts):\n",
    "    guess = int(input(\"Enter your guess: \"))\n",
    "    print(f\"Enter your guess: {guess}\")\n",
    "    if guess == snum:\n",
    "        print(\"Correct\")\n",
    "        break\n",
    "    else:\n",
    "        print(\"Wrong\")\n",
    "        attempts -= 1\n",
    "        continue\n",
    "    \n",
    "if attempts == 0:\n",
    "    print(\"you ran out of guesses\")\n",
    "\n",
    "\n"
   ]
  },
  {
   "cell_type": "code",
   "execution_count": null,
   "metadata": {},
   "outputs": [],
   "source": []
  }
 ],
 "metadata": {
  "kernelspec": {
   "display_name": "base",
   "language": "python",
   "name": "python3"
  },
  "language_info": {
   "codemirror_mode": {
    "name": "ipython",
    "version": 3
   },
   "file_extension": ".py",
   "mimetype": "text/x-python",
   "name": "python",
   "nbconvert_exporter": "python",
   "pygments_lexer": "ipython3",
   "version": "3.12.2"
  }
 },
 "nbformat": 4,
 "nbformat_minor": 2
}
