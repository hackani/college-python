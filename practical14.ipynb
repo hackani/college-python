{
 "cells": [
  {
   "cell_type": "markdown",
   "metadata": {},
   "source": [
    "# <center>Practical 14</center>"
   ]
  },
  {
   "cell_type": "markdown",
   "metadata": {},
   "source": [
    "### WAP to demonstrate the indexing and slicing of a list and tuple"
   ]
  },
  {
   "cell_type": "code",
   "execution_count": 1,
   "metadata": {},
   "outputs": [
    {
     "name": "stdout",
     "output_type": "stream",
     "text": [
      "Chaudhari Kanishk\n",
      "List indexing:\n",
      "First element: 10\n",
      "Last element: 60\n",
      "Third element: 30\n",
      "\n",
      "List slicing:\n",
      "First three elements: [10, 20, 30]\n",
      "Last three elements: [40, 50, 60]\n",
      "Elements from index 1 to 4: [20, 30, 40, 50]\n",
      "\n",
      "Tuple indexing:\n",
      "First element: 5\n",
      "Last element: 30\n",
      "Third element: 15\n",
      "\n",
      "Tuple slicing:\n",
      "First three elements: (5, 10, 15)\n",
      "Last three elements: (20, 25, 30)\n",
      "Elements from index 1 to 4: (10, 15, 20, 25)\n"
     ]
    }
   ],
   "source": [
    "print(\"Chaudhari Kanishk\")\n",
    "\n",
    "my_list = [10, 20, 30, 40, 50, 60]\n",
    "\n",
    "print(\"List indexing:\")\n",
    "print(\"First element:\", my_list[0])\n",
    "print(\"Last element:\", my_list[-1])\n",
    "print(\"Third element:\", my_list[2])\n",
    "\n",
    "print(\"\\nList slicing:\")\n",
    "print(\"First three elements:\", my_list[:3])\n",
    "print(\"Last three elements:\", my_list[-3:])\n",
    "print(\"Elements from index 1 to 4:\", my_list[1:5])\n",
    "\n",
    "my_tuple = (5, 10, 15, 20, 25, 30)\n",
    "\n",
    "print(\"\\nTuple indexing:\")\n",
    "print(\"First element:\", my_tuple[0])\n",
    "print(\"Last element:\", my_tuple[-1])\n",
    "print(\"Third element:\", my_tuple[2])\n",
    "\n",
    "print(\"\\nTuple slicing:\")\n",
    "print(\"First three elements:\", my_tuple[:3])\n",
    "print(\"Last three elements:\", my_tuple[-3:])\n",
    "print(\"Elements from index 1 to 4:\", my_tuple[1:5])\n"
   ]
  },
  {
   "cell_type": "markdown",
   "metadata": {},
   "source": [
    "### WAP to iterate an element of list and tuple using for and while loops."
   ]
  },
  {
   "cell_type": "code",
   "execution_count": 2,
   "metadata": {},
   "outputs": [
    {
     "name": "stdout",
     "output_type": "stream",
     "text": [
      "Chaudhari Kanishk\n",
      "Iterating through list using for loop:\n",
      "10\n",
      "20\n",
      "30\n",
      "40\n",
      "50\n",
      "\n",
      "Iterating through list using while loop:\n",
      "10\n",
      "20\n",
      "30\n",
      "40\n",
      "50\n",
      "\n",
      "Iterating through tuple using for loop:\n",
      "5\n",
      "15\n",
      "25\n",
      "35\n",
      "45\n",
      "\n",
      "Iterating through tuple using while loop:\n",
      "5\n",
      "15\n",
      "25\n",
      "35\n",
      "45\n"
     ]
    }
   ],
   "source": [
    "print(\"Chaudhari Kanishk\")\n",
    "\n",
    "my_list = [10, 20, 30, 40, 50]\n",
    "\n",
    "print(\"Iterating through list using for loop:\")\n",
    "for element in my_list:\n",
    "    print(element)\n",
    "\n",
    "print(\"\\nIterating through list using while loop:\")\n",
    "index = 0\n",
    "while index < len(my_list):\n",
    "    print(my_list[index])\n",
    "    index += 1\n",
    "\n",
    "my_tuple = (5, 15, 25, 35, 45)\n",
    "\n",
    "print(\"\\nIterating through tuple using for loop:\")\n",
    "for element in my_tuple:\n",
    "    print(element)\n",
    "\n",
    "print(\"\\nIterating through tuple using while loop:\")\n",
    "index = 0\n",
    "while index < len(my_tuple):\n",
    "    print(my_tuple[index])\n",
    "    index += 1\n"
   ]
  },
  {
   "cell_type": "markdown",
   "metadata": {},
   "source": [
    "### WAP that creates a list of 10 random integers. Then create two lists of all odd and even numbers from it."
   ]
  },
  {
   "cell_type": "code",
   "execution_count": 3,
   "metadata": {},
   "outputs": [
    {
     "name": "stdout",
     "output_type": "stream",
     "text": [
      "Chaudhari Kanishk\n",
      "Random Integers: [68, 33, 32, 99, 37, 67, 99, 65, 35, 32]\n",
      "Odd Numbers: [33, 99, 37, 67, 99, 65, 35]\n",
      "Even Numbers: [68, 32, 32]\n"
     ]
    }
   ],
   "source": [
    "print(\"Chaudhari Kanishk\")\n",
    "\n",
    "import random\n",
    "\n",
    "random_integers = [random.randint(1, 100) for _ in range(10)]\n",
    "\n",
    "print(\"Random Integers:\", random_integers)\n",
    "\n",
    "odd_numbers = []\n",
    "even_numbers = []\n",
    "\n",
    "for num in random_integers:\n",
    "    if num % 2 == 0:\n",
    "        even_numbers.append(num)\n",
    "    else:\n",
    "        odd_numbers.append(num)\n",
    "\n",
    "print(\"Odd Numbers:\", odd_numbers)\n",
    "print(\"Even Numbers:\", even_numbers)\n"
   ]
  },
  {
   "cell_type": "markdown",
   "metadata": {},
   "source": [
    "### WAP that creates a list of words by combining the words in two individual lists."
   ]
  },
  {
   "cell_type": "code",
   "execution_count": 4,
   "metadata": {},
   "outputs": [
    {
     "name": "stdout",
     "output_type": "stream",
     "text": [
      "Chaudhari Kanishk\n",
      "Combined List of Words: ['apple', 'banana', 'orange', 'cat', 'dog', 'fish']\n"
     ]
    }
   ],
   "source": [
    "print(\"Chaudhari Kanishk\")\n",
    "\n",
    "list1 = [\"apple\", \"banana\", \"orange\"]\n",
    "list2 = [\"cat\", \"dog\", \"fish\"]\n",
    "\n",
    "combined_list = list1 + list2\n",
    "\n",
    "print(\"Combined List of Words:\", combined_list)"
   ]
  },
  {
   "cell_type": "markdown",
   "metadata": {},
   "source": [
    "### WAP to remove all duplicates from a list."
   ]
  },
  {
   "cell_type": "code",
   "execution_count": 5,
   "metadata": {},
   "outputs": [
    {
     "name": "stdout",
     "output_type": "stream",
     "text": [
      "Chaudhari Kanishk\n",
      "Original List with Duplicates: [1, 2, 3, 4, 2, 3, 5, 6, 7, 8, 1, 9, 10, 5]\n",
      "List after removing duplicates: [1, 2, 3, 4, 5, 6, 7, 8, 9, 10]\n"
     ]
    }
   ],
   "source": [
    "print(\"Chaudhari Kanishk\")\n",
    "\n",
    "original_list = [1, 2, 3, 4, 2, 3, 5, 6, 7, 8, 1, 9, 10, 5]\n",
    "\n",
    "unique_list = list(set(original_list))\n",
    "\n",
    "print(\"Original List with Duplicates:\", original_list)\n",
    "print(\"List after removing duplicates:\", unique_list)"
   ]
  },
  {
   "cell_type": "markdown",
   "metadata": {},
   "source": [
    "### WAP to combine values in two lists using list comprehension. Combine only those values of a list that are multiples of values in the first list"
   ]
  },
  {
   "cell_type": "code",
   "execution_count": 6,
   "metadata": {},
   "outputs": [
    {
     "name": "stdout",
     "output_type": "stream",
     "text": [
      "Chaudhari Kanishk\n",
      "Combined List: [20, 40, 45, 80]\n"
     ]
    }
   ],
   "source": [
    "print(\"Chaudhari Kanishk\")\n",
    "\n",
    "list1 = [2, 3, 4]\n",
    "list2 = [10, 15, 20, 25]\n",
    "\n",
    "combined_list = [x * y for x in list1 for y in list2 if y % x == 0]\n",
    "\n",
    "print(\"Combined List:\", combined_list)"
   ]
  },
  {
   "cell_type": "markdown",
   "metadata": {},
   "source": [
    "### WAP using filter() function to filter out only even numbers from a list"
   ]
  },
  {
   "cell_type": "code",
   "execution_count": 7,
   "metadata": {},
   "outputs": [
    {
     "name": "stdout",
     "output_type": "stream",
     "text": [
      "Chaudhari Kanishk\n",
      "Original List: [1, 2, 3, 4, 5, 6, 7, 8, 9, 10]\n",
      "Even Numbers: [2, 4, 6, 8, 10]\n"
     ]
    }
   ],
   "source": [
    "print(\"Chaudhari Kanishk\")\n",
    "\n",
    "original_list = [1, 2, 3, 4, 5, 6, 7, 8, 9, 10]\n",
    "\n",
    "even_numbers = list(filter(lambda x: x % 2 == 0, original_list))\n",
    "\n",
    "print(\"Original List:\", original_list)\n",
    "print(\"Even Numbers:\", even_numbers)"
   ]
  },
  {
   "cell_type": "markdown",
   "metadata": {},
   "source": [
    "### WAP using map() function to create a list of squares of numbers in the range 1 to 10."
   ]
  },
  {
   "cell_type": "code",
   "execution_count": 8,
   "metadata": {},
   "outputs": [
    {
     "name": "stdout",
     "output_type": "stream",
     "text": [
      "Chaudhari Kanishk\n",
      "List of Squares: [1, 4, 9, 16, 25, 36, 49, 64, 81, 100]\n"
     ]
    }
   ],
   "source": [
    "print(\"Chaudhari Kanishk\")\n",
    "\n",
    "squared_numbers = list(map(lambda x: x ** 2, range(1, 11)))\n",
    "\n",
    "print(\"List of Squares:\", squared_numbers)"
   ]
  },
  {
   "cell_type": "markdown",
   "metadata": {},
   "source": [
    "### WAP to demonstrate the use of zip() and enumerate() functions."
   ]
  },
  {
   "cell_type": "code",
   "execution_count": 9,
   "metadata": {},
   "outputs": [
    {
     "name": "stdout",
     "output_type": "stream",
     "text": [
      "Chaudhari Kanishk\n",
      "Zipped Lists: [('a', 1, 'x'), ('b', 2, 'y'), ('c', 3, 'z')]\n",
      "Word at index 0: apple\n",
      "Word at index 1: banana\n",
      "Word at index 2: orange\n",
      "Word at index 3: grape\n"
     ]
    }
   ],
   "source": [
    "print(\"Chaudhari Kanishk\")\n",
    "\n",
    "list1 = ['a', 'b', 'c']\n",
    "list2 = [1, 2, 3]\n",
    "list3 = ['x', 'y', 'z']\n",
    "\n",
    "zipped_lists = list(zip(list1, list2, list3))\n",
    "\n",
    "print(\"Zipped Lists:\", zipped_lists)\n",
    "\n",
    "words = ['apple', 'banana', 'orange', 'grape']\n",
    "\n",
    "for index, word in enumerate(words):\n",
    "    print(f\"Word at index {index}: {word}\")"
   ]
  },
  {
   "cell_type": "markdown",
   "metadata": {},
   "source": [
    "### WAP to add two matrices (using nested lists)."
   ]
  },
  {
   "cell_type": "code",
   "execution_count": 10,
   "metadata": {},
   "outputs": [
    {
     "name": "stdout",
     "output_type": "stream",
     "text": [
      "Chaudhari Kanishk\n",
      "Matrix 1:\n",
      "[1, 2, 3]\n",
      "[4, 5, 6]\n",
      "[7, 8, 9]\n",
      "\n",
      "Matrix 2:\n",
      "[9, 8, 7]\n",
      "[6, 5, 4]\n",
      "[3, 2, 1]\n",
      "\n",
      "Result Matrix:\n",
      "[10, 10, 10]\n",
      "[10, 10, 10]\n",
      "[10, 10, 10]\n"
     ]
    }
   ],
   "source": [
    "print(\"Chaudhari Kanishk\")\n",
    "def add_matrices(matrix1, matrix2):\n",
    "    if len(matrix1) != len(matrix2) or len(matrix1[0]) != len(matrix2[0]):\n",
    "        return \"Matrices must have the same dimensions for addition.\"\n",
    "\n",
    "    result = [[0 for _ in range(len(matrix1[0]))] for _ in range(len(matrix1))]\n",
    "\n",
    "    for i in range(len(matrix1)):\n",
    "        for j in range(len(matrix1[0])):\n",
    "            result[i][j] = matrix1[i][j] + matrix2[i][j]\n",
    "\n",
    "    return result\n",
    "\n",
    "matrix1 = [[1, 2, 3],\n",
    "           [4, 5, 6],\n",
    "           [7, 8, 9]]\n",
    "\n",
    "matrix2 = [[9, 8, 7],\n",
    "           [6, 5, 4],\n",
    "           [3, 2, 1]]\n",
    "\n",
    "result_matrix = add_matrices(matrix1, matrix2)\n",
    "\n",
    "if isinstance(result_matrix, str):\n",
    "    print(result_matrix)\n",
    "else:\n",
    "    print(\"Matrix 1:\")\n",
    "    for row in matrix1:\n",
    "        print(row)\n",
    "    print(\"\\nMatrix 2:\")\n",
    "    for row in matrix2:\n",
    "        print(row)\n",
    "    print(\"\\nResult Matrix:\")\n",
    "    for row in result_matrix:\n",
    "        print(row)"
   ]
  },
  {
   "cell_type": "code",
   "execution_count": null,
   "metadata": {},
   "outputs": [],
   "source": []
  }
 ],
 "metadata": {
  "kernelspec": {
   "display_name": "base",
   "language": "python",
   "name": "python3"
  },
  "language_info": {
   "codemirror_mode": {
    "name": "ipython",
    "version": 3
   },
   "file_extension": ".py",
   "mimetype": "text/x-python",
   "name": "python",
   "nbconvert_exporter": "python",
   "pygments_lexer": "ipython3",
   "version": "3.12.2"
  }
 },
 "nbformat": 4,
 "nbformat_minor": 2
}
